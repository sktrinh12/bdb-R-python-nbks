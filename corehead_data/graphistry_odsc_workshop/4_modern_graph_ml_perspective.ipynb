{
 "cells": [
  {
   "cell_type": "markdown",
   "id": "a50b16d7-822b-4377-b375-cbe15d0a14f5",
   "metadata": {},
   "source": [
    "# ML Tasks\n",
    "\n",
    "## Operate on:\n",
    "  * Node\n",
    "  * Edge\n",
    "  * Graph\n",
    "\n",
    "## Task:\n",
    "  * Classify: Troll or not?\n",
    "  * Regress: How trollish?\n",
    "  * Predict: Likely edge?\n",
    "  \n",
    "# Problem: How to reuse powerful legacy tabular ML (neural network, random forest) to use graph relationships?\n",
    "\n",
    "Ex: Twitter misinfo - text analyze looks at content, but not who is sharing\n",
    "\n",
    "  * **Neural nets**: NLP, Vision, ..\n",
    "  * **Random forest**: Tables\n",
    "\n",
    "\n",
    "# Standard Solution: Pipeline!\n",
    "## Enrich features with precomputed graph stats\n",
    "\n",
    "```python\n",
    "\n",
    "df = pd.read_csv('inputs.csv')\n",
    "\n",
    "# 1. Enrich entities with graph stats features\n",
    "df['pagerank'] = ...\n",
    "df['degree'] = ...\n",
    "df['community'] = ....\n",
    "\n",
    "# 2. Call random forest or neural net as usual\n",
    "df['score'] = xgboost(df)\n",
    "```\n",
    "\n",
    "## Powerful signal: Give more weight to influencers, ...\n",
    "\n",
    "## But ignores more subtle relationships\n",
    "\n",
    "* Ex: Twitter graph with Follow vs Block actions\n"
   ]
  },
  {
   "cell_type": "markdown",
   "id": "ab343ad7-8659-4c46-b768-6afcd2b834a7",
   "metadata": {},
   "source": [
    "# Emerging solution: Graph neural nets!\n",
    "\n",
    "Instead of a word as a vector, why not a node?\n",
    "\n",
    "\n",
    "  * Started to scale in the last ~year!\n",
    "  * Initially: Pinterest/Stanford: GraphSAGE for recommendations\n",
    "  * Now popular: Deepmind (Google's top deep learning R&D team) - AlphaFold, ...\n",
    "  \n",
    "## GCN: Graph Convolutional Network\n",
    "\n",
    "Like a normal neural network, except instead of on text/pictures/.., on nodes!\n",
    "\n",
    "* Encode each node as a vector based on itself + neighbors\n",
    "  * \"You are your 5 closest friends\"\n",
    "  * Can reuse classic encodings, like NLP word counts, just need to combine them (\"sum\")\n",
    "  * Homophily: If all your friends talk about conspiracy X...\n",
    "* Network layer: All the nodes\n",
    "  * More network layers, more hops out on the graph\n"
   ]
  },
  {
   "cell_type": "markdown",
   "id": "ddb32c6b-4e57-4081-9842-95ba50fa8165",
   "metadata": {},
   "source": [
    "## RGCN: Relational Graph Convolutional Networks for real-world graphs\n",
    "\n",
    "Focuses on solving scale + hetereogeneity\n",
    "\n",
    "* Heterogeneous graphs - quality: \n",
    "  * Multiple node/edge types, attributes, ...\n",
    "  * Following vs Blocking very different!\n",
    "  * Each layer, instead of 1 weight matrix, ...\n",
    "  * ... many, per relationship\n",
    "* Heterogeneous graphs - scale: \n",
    "  * ... minificiation tricks: block vs follow might be a coefficient instead\n",
    "  * GPU implementations\n",
    "  * + multi-GPU\n",
    "* ... but still quite tricky in practice: APIs pretty difficult!\n",
    "  "
   ]
  },
  {
   "cell_type": "markdown",
   "id": "b443bfe2-2930-414b-bc0c-0e65a7f6cf5f",
   "metadata": {},
   "source": [
    "## Next steps\n",
    "\n",
    "If interested, contact for contributing to anti-covid-misinformation effort at Project Domino (100M+ tweets, ...)\n",
    "\n",
    "* Small graph ML: NetworkX extension https://github.com/benedekrozemberczki/karateclub\n",
    "* Big graph ML, esp. RGCN:\n",
    "  * https://www.dgl.ai/\n",
    "  * https://github.com/stellargraph/stellargraph\n",
    "  * PyTorch Geometric"
   ]
  },
  {
   "cell_type": "code",
   "execution_count": null,
   "id": "70d15e90-effc-44e5-90f6-8a3a6ac35fb4",
   "metadata": {},
   "outputs": [],
   "source": []
  }
 ],
 "metadata": {
  "kernelspec": {
   "display_name": "Python 3.7 (RAPIDS)",
   "language": "python",
   "name": "rapids"
  },
  "language_info": {
   "codemirror_mode": {
    "name": "ipython",
    "version": 3
   },
   "file_extension": ".py",
   "mimetype": "text/x-python",
   "name": "python",
   "nbconvert_exporter": "python",
   "pygments_lexer": "ipython3",
   "version": "3.7.10"
  }
 },
 "nbformat": 4,
 "nbformat_minor": 5
}
