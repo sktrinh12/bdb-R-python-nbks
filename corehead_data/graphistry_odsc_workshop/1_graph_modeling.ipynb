{
 "cells": [
  {
   "cell_type": "markdown",
   "metadata": {},
   "source": [
    "# Graph Intelligence Hands-On Workshop\n",
    "\n",
    "Most data has a useful graph perspective\n",
    "* Graph -> graph\n",
    "* Text -> knowledge graph\n",
    "* Events, logs, tables -> Hypergraph\n",
    "* Feature vectors & embeddings -> TDA\n",
    "* Correlations & matrices -> weighted graph"
   ]
  },
  {
   "cell_type": "code",
   "execution_count": 1,
   "metadata": {},
   "outputs": [
    {
     "name": "stdout",
     "output_type": "stream",
     "text": [
      "Collecting graphistry\n",
      "  Downloading graphistry-0.20.2-py3-none-any.whl (88 kB)\n",
      "\u001b[K     |████████████████████████████████| 88 kB 129 kB/s eta 0:00:01\n",
      "\u001b[?25hRequirement already satisfied: numpy in /opt/conda/lib/python3.8/site-packages (from graphistry) (1.19.4)\n",
      "Requirement already satisfied: pandas>=0.17.0 in /opt/conda/lib/python3.8/site-packages (from graphistry) (1.1.5)\n",
      "Requirement already satisfied: requests in /opt/conda/lib/python3.8/site-packages (from graphistry) (2.25.1)\n",
      "Requirement already satisfied: protobuf>=2.6.0 in /opt/conda/lib/python3.8/site-packages (from graphistry) (3.14.0)\n",
      "Requirement already satisfied: python-dateutil>=2.7.3 in /opt/conda/lib/python3.8/site-packages (from pandas>=0.17.0->graphistry) (2.8.1)\n",
      "Requirement already satisfied: pytz>=2017.2 in /opt/conda/lib/python3.8/site-packages (from pandas>=0.17.0->graphistry) (2020.5)\n",
      "Requirement already satisfied: six>=1.9 in /opt/conda/lib/python3.8/site-packages (from protobuf>=2.6.0->graphistry) (1.15.0)\n",
      "Collecting pyarrow>=0.15.0\n",
      "  Downloading pyarrow-6.0.1-cp38-cp38-manylinux_2_17_x86_64.manylinux2014_x86_64.whl (25.6 MB)\n",
      "\u001b[K     |████████████████████████████████| 25.6 MB 1.6 MB/s eta 0:00:01     |█████████████████████▋          | 17.3 MB 1.2 MB/s eta 0:00:07\n",
      "\u001b[?25hRequirement already satisfied: urllib3<1.27,>=1.21.1 in /opt/conda/lib/python3.8/site-packages (from requests->graphistry) (1.26.2)\n",
      "Requirement already satisfied: chardet<5,>=3.0.2 in /opt/conda/lib/python3.8/site-packages (from requests->graphistry) (4.0.0)\n",
      "Requirement already satisfied: certifi>=2017.4.17 in /opt/conda/lib/python3.8/site-packages (from requests->graphistry) (2020.12.5)\n",
      "Requirement already satisfied: idna<3,>=2.5 in /opt/conda/lib/python3.8/site-packages (from requests->graphistry) (2.10)\n",
      "Installing collected packages: pyarrow, graphistry\n",
      "\u001b[33m  WARNING: The script plasma_store is installed in '/home/jovyan/.local/bin' which is not on PATH.\n",
      "  Consider adding this directory to PATH or, if you prefer to suppress this warning, use --no-warn-script-location.\u001b[0m\n",
      "Successfully installed graphistry-0.20.2 pyarrow-6.0.1\n"
     ]
    }
   ],
   "source": [
    "! pip install --user graphistry"
   ]
  },
  {
   "cell_type": "code",
   "execution_count": 2,
   "metadata": {},
   "outputs": [
    {
     "ename": "ModuleNotFoundError",
     "evalue": "No module named 'cudf'",
     "output_type": "error",
     "traceback": [
      "\u001b[0;31m---------------------------------------------------------------------------\u001b[0m",
      "\u001b[0;31mModuleNotFoundError\u001b[0m                       Traceback (most recent call last)",
      "\u001b[0;32m<ipython-input-2-fcf98772b0ee>\u001b[0m in \u001b[0;36m<module>\u001b[0;34m\u001b[0m\n\u001b[0;32m----> 1\u001b[0;31m \u001b[0;32mimport\u001b[0m \u001b[0mcudf\u001b[0m\u001b[0;34m,\u001b[0m \u001b[0mgraphistry\u001b[0m\u001b[0;34m,\u001b[0m \u001b[0mjson\u001b[0m\u001b[0;34m,\u001b[0m \u001b[0mpandas\u001b[0m \u001b[0;32mas\u001b[0m \u001b[0mpd\u001b[0m\u001b[0;34m\u001b[0m\u001b[0;34m\u001b[0m\u001b[0m\n\u001b[0m\u001b[1;32m      2\u001b[0m \u001b[0mgraphistry_creds\u001b[0m \u001b[0;34m=\u001b[0m \u001b[0mjson\u001b[0m\u001b[0;34m.\u001b[0m\u001b[0mload\u001b[0m\u001b[0;34m(\u001b[0m\u001b[0mopen\u001b[0m\u001b[0;34m(\u001b[0m\u001b[0;34m'./graphistry_creds.json'\u001b[0m\u001b[0;34m)\u001b[0m\u001b[0;34m)\u001b[0m\u001b[0;34m\u001b[0m\u001b[0;34m\u001b[0m\u001b[0m\n\u001b[1;32m      3\u001b[0m \u001b[0mgraphistry\u001b[0m\u001b[0;34m.\u001b[0m\u001b[0mregister\u001b[0m\u001b[0;34m(\u001b[0m\u001b[0mapi\u001b[0m\u001b[0;34m=\u001b[0m\u001b[0;36m3\u001b[0m\u001b[0;34m,\u001b[0m \u001b[0;34m**\u001b[0m\u001b[0mgraphistry_creds\u001b[0m\u001b[0;34m)\u001b[0m\u001b[0;34m\u001b[0m\u001b[0;34m\u001b[0m\u001b[0m\n\u001b[1;32m      4\u001b[0m \u001b[0;34m\u001b[0m\u001b[0m\n\u001b[1;32m      5\u001b[0m \u001b[0mgraphistry_creds\u001b[0m\u001b[0;34m.\u001b[0m\u001b[0mkeys\u001b[0m\u001b[0;34m(\u001b[0m\u001b[0;34m)\u001b[0m\u001b[0;34m\u001b[0m\u001b[0;34m\u001b[0m\u001b[0m\n",
      "\u001b[0;31mModuleNotFoundError\u001b[0m: No module named 'cudf'"
     ]
    }
   ],
   "source": [
    "import cudf, graphistry, json, pandas as pd\n",
    "graphistry_creds = json.load(open('./graphistry_creds.json'))\n",
    "graphistry.register(api=3, **graphistry_creds)\n",
    "\n",
    "graphistry_creds.keys()"
   ]
  },
  {
   "cell_type": "markdown",
   "metadata": {},
   "source": [
    "# 1. Natural graphs\n",
    "\n",
    "## Ex: Social network of (person)-[friend]->(person)\n",
    "* What are the commnunities?\n",
    "* Who is central? Who bridges them?\n",
    "\n",
    "### ... Often Property Graph: Attributes on nodes + edges\n",
    "\n",
    "Also: Retweet graph, hashtag interaction graph, ..."
   ]
  },
  {
   "cell_type": "code",
   "execution_count": 3,
   "metadata": {},
   "outputs": [
    {
     "data": {
      "text/html": [
       "\n",
       "            <iframe id=\"a163243b-8af4-4b24-bc9c-d8307fba4b11\" src=\"/graph/graph.html?dataset=7112bd1b36ea4ffc91cf25d4afa32f7c&type=arrow&viztoken=96f753e8-cf83-4d7b-88dd-c8904101b87d&usertag=8182441e-pygraphistry-0.20.1&splashAfter=1637217091&info=true\"\n",
       "                    allowfullscreen=\"true\" webkitallowfullscreen=\"true\" mozallowfullscreen=\"true\"\n",
       "                    oallowfullscreen=\"true\" msallowfullscreen=\"true\"\n",
       "                    style=\"width:100%; height:500px; border: 1px solid #DDD; overflow: hidden\">\n",
       "            </iframe>\n",
       "        \n",
       "            <script>\n",
       "                try {\n",
       "                  $(\"#a163243b-8af4-4b24-bc9c-d8307fba4b11\").bind('mousewheel', function(e) { e.preventDefault(); });\n",
       "                } catch (e) { console.error('exn catching scroll', e); }\n",
       "            </script>\n",
       "        "
      ],
      "text/plain": [
       "<IPython.core.display.HTML object>"
      ]
     },
     "execution_count": 3,
     "metadata": {},
     "output_type": "execute_result"
    }
   ],
   "source": [
    "fb_df = pd.read_csv(\n",
    "    'https://raw.githubusercontent.com/graphistry/pygraphistry/master/demos/data/facebook_combined.txt',\n",
    "    sep=' ')\n",
    "fb_df = fb_df.rename(columns={'0': 's', '1': 'd'})\n",
    "\n",
    "graphistry.edges(cudf.from_pandas(fb_df), 's', 'd').plot()"
   ]
  },
  {
   "cell_type": "markdown",
   "metadata": {},
   "source": [
    "### Property graphs everywhere:\n",
    "\n",
    "* Security trails (logs)\n",
    "* Customer journey\n",
    "* Fraud: Payments, accounts, ownership\n",
    "* Supplychain & logistics\n",
    "* Finance: Derivative, trades, ...\n",
    "* Communications\n",
    "\n",
    "### ... because Events & Logs!\n",
    "\n"
   ]
  },
  {
   "cell_type": "markdown",
   "metadata": {},
   "source": [
    "## Ex: Energy & Telco\n",
    "\n",
    "Energy grid, with nodes colored by usage, alerts, ... \n",
    "\n",
    "Fun story: National telco using Graphistry saw a bunch of  their customers disconnected from the grid. Revealed year+ data quality bug! \n",
    "\n",
    "=> Viz import for both data scientists + end users!"
   ]
  },
  {
   "cell_type": "markdown",
   "metadata": {},
   "source": [
    "# 2. Text\n",
    "## Ex:  Knowledge graph of (noun)-[relation]->(noun) \n",
    "* Nodes: Extract entities\n",
    "* Edges: Link based on relationship\n",
    "\n",
    "### Super popular!\n",
    "* RDF triple stores initially popular here"
   ]
  },
  {
   "cell_type": "markdown",
   "metadata": {},
   "source": [
    "![diffbot knowledge graph](diffbot.png)"
   ]
  },
  {
   "cell_type": "markdown",
   "metadata": {},
   "source": [
    "* Text is increasingly machine-understandable with many off-the-shelf ML algorithms: sentiment, ...\n",
    "* In real use cases, often need to *ground* entities with internal data: products, scores, ... <= knowledge graph!\n",
    "\n",
    "* Knowledge graph makes data *accessible* for both *machines* and *people*"
   ]
  },
  {
   "cell_type": "markdown",
   "metadata": {},
   "source": [
    "# 3. Table: Records, Logs, Events, ...\n",
    "## Ex: FTP access logs\n",
    "## ... Via Hypergraph transform: Each event links multiple entities\n",
    "\n",
    "### Growing in popularity: Security, fraud, especially recommendations: Graph neural nets\n",
    "\n",
    "* Data traditionally stored in log or relational DB for text search\n",
    "* Graph questions: Progression, relationships, connectivity, anomaly, ...\n",
    "* ETL (extract/transform/load): \n",
    "  * Training on bulk extracts & inference on localized events\n",
    "  * Use separate compute engine:\n",
    "    * small (networkx: < 1MB), medium (cugraph: < 10GB), big (spark, dask-cudf, spark: 1TB+)\n",
    "    * graph-native (network, cugraph, cugraph-on-dask): optimized\n",
    "    * tabular underneath (graphx-on-spark): availability, scale ease..."
   ]
  },
  {
   "cell_type": "code",
   "execution_count": null,
   "metadata": {},
   "outputs": [],
   "source": [
    "df = pd.read_csv('http://www.secrepo.com/maccdc2012/ftp.log.gz', sep='\\t',\n",
    "                 names=['ts', 'uid', 'id.orig_h', 'id.orig_p', 'id.resp_h', 'id.resp_p', 'user', 'password',\n",
    "                        'command', 'arg', 'mime_type', 'file_size', 'reply_code', 'reply_msg', 'passive',\n",
    "                        'orig_h', 'resp_h', 'resp_p', 'fuid'])"
   ]
  },
  {
   "cell_type": "code",
   "execution_count": 7,
   "metadata": {},
   "outputs": [
    {
     "data": {
      "text/html": [
       "\n",
       "            <iframe id=\"4d29dd58-0ddb-4e5c-95c9-e503356568ca\" src=\"/graph/graph.html?dataset=4b005df7f14847c889655d980206faa9&type=arrow&viztoken=584e4600-8495-4637-98c2-c8e917f5de5b&usertag=8182441e-pygraphistry-0.20.1&splashAfter=1637217204&info=true\"\n",
       "                    allowfullscreen=\"true\" webkitallowfullscreen=\"true\" mozallowfullscreen=\"true\"\n",
       "                    oallowfullscreen=\"true\" msallowfullscreen=\"true\"\n",
       "                    style=\"width:100%; height:500px; border: 1px solid #DDD; overflow: hidden\">\n",
       "            </iframe>\n",
       "        \n",
       "            <script>\n",
       "                try {\n",
       "                  $(\"#4d29dd58-0ddb-4e5c-95c9-e503356568ca\").bind('mousewheel', function(e) { e.preventDefault(); });\n",
       "                } catch (e) { console.error('exn catching scroll', e); }\n",
       "            </script>\n",
       "        "
      ],
      "text/plain": [
       "<IPython.core.display.HTML object>"
      ]
     },
     "execution_count": 7,
     "metadata": {},
     "output_type": "execute_result"
    }
   ],
   "source": [
    "graphistry.edges(df, 'orig_h', 'user').plot()"
   ]
  },
  {
   "cell_type": "code",
   "execution_count": 4,
   "metadata": {},
   "outputs": [
    {
     "name": "stdout",
     "output_type": "stream",
     "text": [
      "# links 40572\n",
      "# events 5796\n",
      "# attrib entities 2197\n"
     ]
    },
    {
     "data": {
      "text/html": [
       "\n",
       "            <iframe id=\"015ea6d7-17c7-403c-9ad2-42365186d065\" src=\"/graph/graph.html?dataset=252ffebc596944c89867f186ce2247c5&type=arrow&viztoken=cc2a43c1-4b2b-4ca1-9837-67ca02ace7f2&usertag=8182441e-pygraphistry-0.20.1&splashAfter=1637217099&info=true\"\n",
       "                    allowfullscreen=\"true\" webkitallowfullscreen=\"true\" mozallowfullscreen=\"true\"\n",
       "                    oallowfullscreen=\"true\" msallowfullscreen=\"true\"\n",
       "                    style=\"width:100%; height:500px; border: 1px solid #DDD; overflow: hidden\">\n",
       "            </iframe>\n",
       "        \n",
       "            <script>\n",
       "                try {\n",
       "                  $(\"#015ea6d7-17c7-403c-9ad2-42365186d065\").bind('mousewheel', function(e) { e.preventDefault(); });\n",
       "                } catch (e) { console.error('exn catching scroll', e); }\n",
       "            </script>\n",
       "        "
      ],
      "text/plain": [
       "<IPython.core.display.HTML object>"
      ]
     },
     "execution_count": 4,
     "metadata": {},
     "output_type": "execute_result"
    }
   ],
   "source": [
    "g = graphistry.hypergraph(\n",
    "    df,\n",
    "    ['uid', 'orig_h', 'resp_h', 'user', 'password', 'arg', 'fuid'],\n",
    "    opts={\n",
    "        'CATEGORIES': {\n",
    "            'ip': ['orig_h', 'resp_h']\n",
    "        }\n",
    "    })['graph']\n",
    "g.encode_point_color('category',\n",
    "                     categorical_mapping={\n",
    "                         'even': 'white',\n",
    "                         'uid': 'gray',\n",
    "                         'ip': 'blue',\n",
    "                         'user': 'green',\n",
    "                         'password': 'orange',\n",
    "                         'arg': 'red',\n",
    "                         'fuid': 'blue'\n",
    "                     }).plot()"
   ]
  },
  {
   "cell_type": "markdown",
   "metadata": {},
   "source": [
    "# 4. Matrix\n",
    "\n",
    "## Ex: P(a,b): (a)-[P(a,b)]->(b)\n",
    "## ... Demo: Survey for P(Programming Languge | Reason to use)\n",
    "\n",
    "* Indicator matrix X has a \"1\" at X_i,j when there is edge i->j, otherwise 0 (no edge)\n",
    "* Weighted matrix W has non-zero weight W_i,j for weighted edge i->j\n",
    "* ... Ex: P(x,y), P(x|y), ..."
   ]
  },
  {
   "cell_type": "code",
   "execution_count": 9,
   "metadata": {},
   "outputs": [
    {
     "data": {
      "text/html": [
       "<img src=\"https://www.researchgate.net/profile/Lagerstroem-Robert/publication/42804459/figure/fig1/AS:394377454211078@1471038320778/A-conditional-probability-matrix.png\"/>\n"
      ],
      "text/plain": [
       "<IPython.core.display.HTML object>"
      ]
     },
     "metadata": {},
     "output_type": "display_data"
    }
   ],
   "source": [
    "%%html\n",
    "<img src=\"https://www.researchgate.net/profile/Lagerstroem-Robert/publication/42804459/figure/fig1/AS:394377454211078@1471038320778/A-conditional-probability-matrix.png\"/>"
   ]
  },
  {
   "cell_type": "code",
   "execution_count": 5,
   "metadata": {},
   "outputs": [
    {
     "data": {
      "text/html": [
       "<iframe src=\"https://hub.graphistry.com/graph/graph.html?&dataset=PyGraphistry/PC7D53HHS5\" width=\"100%\" height=\"600\"></iframe>\n"
      ],
      "text/plain": [
       "<IPython.core.display.HTML object>"
      ]
     },
     "metadata": {},
     "output_type": "display_data"
    }
   ],
   "source": [
    "%%html\n",
    "<iframe src=\"https://hub.graphistry.com/graph/graph.html?&dataset=PyGraphistry/PC7D53HHS5\" width=\"100%\" height=\"600\"></iframe>"
   ]
  },
  {
   "cell_type": "markdown",
   "metadata": {},
   "source": [
    "# 5. TDA for explaining ML vectors/embedding/scores\n",
    "\n",
    "## K-nearest-neighbors for understanding an embedding\n",
    "## Ex: Embeddings & scores everywhere\n",
    "## Demo - COVID misinformation embedding space\n",
    "* Nodes: Account\n",
    "* Initial layout: X/Y position based on topics discussed (UMAP)\n",
    "* Edges: Connects similar twitter accounts based on embedding\n",
    "\n",
    "Core to most modern machine learning algorithms is mapping input data to feature vectors and denser / lower-dimensional embeddings. We can connect similar embeddings to understand how the model \"sees\" the data, which helps with data cleaning, featurization, debugging models, and interpreting the results\n",
    "\n",
    "### ... Powerful when combined with coloring embedded samples by scores!"
   ]
  },
  {
   "cell_type": "code",
   "execution_count": 8,
   "metadata": {},
   "outputs": [
    {
     "data": {
      "text/html": [
       "<iframe src=\"https://hub.graphistry.com/graph/graph.html?dataset=6fbdc5fb9ca64f37ade8a7a5ccb337f0&strongGravity=true&play=0\" width=\"100%\" height=\"600\"></iframe>\n"
      ],
      "text/plain": [
       "<IPython.core.display.HTML object>"
      ]
     },
     "metadata": {},
     "output_type": "display_data"
    }
   ],
   "source": [
    "%%html\n",
    "<iframe src=\"https://hub.graphistry.com/graph/graph.html?dataset=6fbdc5fb9ca64f37ade8a7a5ccb337f0&strongGravity=true&play=0\" width=\"100%\" height=\"600\"></iframe>"
   ]
  },
  {
   "cell_type": "markdown",
   "metadata": {},
   "source": [
    "## Ex: Topological data analysis\n",
    "TDA takes point data (metrics, events, ...) and recovers relations. Ex: camera point clouds => shapes \n",
    "\n",
    "## Ex: Causal graphs, Bayesian factor trees/graphs, & time series correlation\n",
    "\n",
    "Pattern mining often comes to inferring probabilities across items: wide world!\n"
   ]
  },
  {
   "cell_type": "markdown",
   "metadata": {},
   "source": [
    "# Additional domains\n",
    "\n",
    "Not mentioned above:\n",
    "\n",
    "### Bio: Genomics, protein networks\n",
    "\n",
    "### Citation graphs\n",
    "\n",
    "### Trust networks"
   ]
  },
  {
   "cell_type": "markdown",
   "metadata": {},
   "source": [
    "# Emerging Graph Stacks: Graph ML, Graph AI, Graph GPU, and combined Graph Intelligence\n",
    "\n",
    "* Graph tech gaining adoption, but real maturity level for how\n",
    "* Many choices: DB vs Compute, CPU vs GPU, BI/Viz/AI/..."
   ]
  },
  {
   "cell_type": "markdown",
   "metadata": {},
   "source": [
    "## Graph ML stack\n",
    "![Graph ML stack](graph_arch1.png)\n",
    "\n",
    "## Graph AI stack\n",
    "![Graph AI stack](graph_arch2.png)\n",
    "\n",
    "# GPUs\n",
    "\n",
    "## Why GPUs\n",
    "\n",
    "Optimized for GB/s thinking: Scale, latency, and cost. Pricing competitiveness for general data tasks is quite recent.\n",
    "\n",
    "![AWS GPU Pricing Improvements by Year](gpu_price.png)\n",
    "\n",
    "\n",
    "\n",
    "\n",
    "\n",
    "## GPU stack (RAPIDS)\n",
    "\n",
    "Same APIs as Python data tools (pandas => cudf, networkx => cugraph, dask => dask_cudf)\n",
    "\n",
    "If you know PyData, you've done the hardest parts to GPU PyData!\n",
    "\n",
    "![RAPIDS stack](rapids.png)\n",
    "\n",
    "# GPU Graph Intelligence Stack\n",
    "![GPU Graph Intelligence Stack](graph_stack.png)\n"
   ]
  },
  {
   "cell_type": "code",
   "execution_count": null,
   "metadata": {},
   "outputs": [],
   "source": []
  }
 ],
 "metadata": {
  "kernelspec": {
   "display_name": "Python 3",
   "language": "python",
   "name": "python3"
  },
  "language_info": {
   "codemirror_mode": {
    "name": "ipython",
    "version": 3
   },
   "file_extension": ".py",
   "mimetype": "text/x-python",
   "name": "python",
   "nbconvert_exporter": "python",
   "pygments_lexer": "ipython3",
   "version": "3.8.6"
  }
 },
 "nbformat": 4,
 "nbformat_minor": 5
}
