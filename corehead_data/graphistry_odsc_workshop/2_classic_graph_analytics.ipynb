{
 "cells": [
  {
   "cell_type": "markdown",
   "metadata": {},
   "source": [
    "# Classic graph analytics, GPU-style\n",
    "\n",
    "Traditional graph methods give insights into how entities are related:\n",
    "\n",
    "* The role of each node: Centrality, betweenness, pagerank, ...\n",
    "* Partitioning: Community, k-core, ...\n",
    "\n",
    "## Why\n",
    "\n",
    "* Social networks: Influencers, bridgers, ...\n",
    "* Security & Fraud: Interaction subgraph mining (\"motifs\")\n"
   ]
  },
  {
   "cell_type": "code",
   "execution_count": 1,
   "metadata": {},
   "outputs": [
    {
     "ename": "ModuleNotFoundError",
     "evalue": "No module named 'cudf'",
     "output_type": "error",
     "traceback": [
      "\u001b[0;31m---------------------------------------------------------------------------\u001b[0m",
      "\u001b[0;31mModuleNotFoundError\u001b[0m                       Traceback (most recent call last)",
      "\u001b[0;32m<ipython-input-1-8429c9ad5c7e>\u001b[0m in \u001b[0;36m<module>\u001b[0;34m\u001b[0m\n\u001b[1;32m      1\u001b[0m \u001b[0;31m#! pip install --user graphistry --upgrade\u001b[0m\u001b[0;34m\u001b[0m\u001b[0;34m\u001b[0m\u001b[0;34m\u001b[0m\u001b[0m\n\u001b[0;32m----> 2\u001b[0;31m \u001b[0;32mimport\u001b[0m \u001b[0mcudf\u001b[0m\u001b[0;34m,\u001b[0m \u001b[0mcugraph\u001b[0m\u001b[0;34m,\u001b[0m \u001b[0mgraphistry\u001b[0m\u001b[0;34m,\u001b[0m \u001b[0mjson\u001b[0m\u001b[0;34m,\u001b[0m \u001b[0mpandas\u001b[0m \u001b[0;32mas\u001b[0m \u001b[0mpd\u001b[0m\u001b[0;34m\u001b[0m\u001b[0;34m\u001b[0m\u001b[0m\n\u001b[0m\u001b[1;32m      3\u001b[0m \u001b[0;32mfrom\u001b[0m \u001b[0mhelpers\u001b[0m \u001b[0;32mimport\u001b[0m \u001b[0mgraphistry_to_cugraph\u001b[0m\u001b[0;34m,\u001b[0m \u001b[0mmerge_in_enriched_entities\u001b[0m\u001b[0;34m,\u001b[0m \u001b[0mmerge_in_vertex_alg\u001b[0m\u001b[0;34m\u001b[0m\u001b[0;34m\u001b[0m\u001b[0m\n\u001b[1;32m      4\u001b[0m \u001b[0;34m\u001b[0m\u001b[0m\n\u001b[1;32m      5\u001b[0m \u001b[0;34m{\u001b[0m\u001b[0;34m'graphistry'\u001b[0m\u001b[0;34m:\u001b[0m \u001b[0mgraphistry\u001b[0m\u001b[0;34m.\u001b[0m\u001b[0m__version__\u001b[0m\u001b[0;34m,\u001b[0m \u001b[0;34m'cudf'\u001b[0m\u001b[0;34m:\u001b[0m \u001b[0mcudf\u001b[0m\u001b[0;34m.\u001b[0m\u001b[0m__version__\u001b[0m\u001b[0;34m,\u001b[0m \u001b[0;34m'cugaph'\u001b[0m\u001b[0;34m:\u001b[0m \u001b[0mcugraph\u001b[0m\u001b[0;34m.\u001b[0m\u001b[0m__version__\u001b[0m\u001b[0;34m}\u001b[0m\u001b[0;34m\u001b[0m\u001b[0;34m\u001b[0m\u001b[0m\n",
      "\u001b[0;31mModuleNotFoundError\u001b[0m: No module named 'cudf'"
     ]
    }
   ],
   "source": [
    "#! pip install --user graphistry --upgrade\n",
    "import cudf, cugraph, graphistry, json, pandas as pd\n",
    "from helpers import graphistry_to_cugraph, merge_in_enriched_entities, merge_in_vertex_alg\n",
    "\n",
    "{'graphistry': graphistry.__version__, 'cudf': cudf.__version__, 'cugaph': cugraph.__version__}"
   ]
  },
  {
   "cell_type": "code",
   "execution_count": 16,
   "metadata": {},
   "outputs": [
    {
     "name": "stdout",
     "output_type": "stream",
     "text": [
      "./graphistry_creds.json:  dict_keys(['username', 'password'])\n"
     ]
    }
   ],
   "source": [
    "graphistry_creds = json.load(open('./graphistry_creds.json'))\n",
    "graphistry.register(api=3, **graphistry_creds)\n",
    "\n",
    "print('./graphistry_creds.json: ', graphistry_creds.keys())"
   ]
  },
  {
   "cell_type": "markdown",
   "metadata": {},
   "source": [
    "## Example: Twitter botnet\n",
    "\n",
    "* Used for multiple purposes:\n",
    "  * Popularity: Supernodes bought follows\n",
    "  * Scammers: Bought retweets\n",
    "  \n",
    "* Unnatural structure\n",
    "  * Rather than clear community structure, most of the nodes are bots with random in-network + out-of-network follows\n",
    "  * They retweet the middle community: \"tweet laundering\""
   ]
  },
  {
   "cell_type": "code",
   "execution_count": 17,
   "metadata": {},
   "outputs": [
    {
     "data": {
      "text/html": [
       "\n",
       "<iframe src=\"https://hub.graphistry.com/graph/graph.html?dataset=Twitter\" width=\"100%\" height=\"600\"></iframe>\n"
      ],
      "text/plain": [
       "<IPython.core.display.HTML object>"
      ]
     },
     "metadata": {},
     "output_type": "display_data"
    }
   ],
   "source": [
    "%%html\n",
    "\n",
    "<iframe src=\"https://hub.graphistry.com/graph/graph.html?dataset=Twitter\" width=\"100%\" height=\"600\"></iframe>"
   ]
  },
  {
   "cell_type": "markdown",
   "metadata": {},
   "source": [
    "## Data\n",
    "\n",
    "Download edge table and wrap as a Graphistry object"
   ]
  },
  {
   "cell_type": "code",
   "execution_count": 27,
   "metadata": {},
   "outputs": [],
   "source": [
    "fb_df = (\n",
    "    pd.read_csv(\n",
    "        'https://raw.githubusercontent.com/graphistry/pygraphistry/master/demos/data/facebook_combined.txt',\n",
    "        sep=' ')\n",
    "    .rename(columns={'0': 's', '1': 'd'})\n",
    ")\n",
    "\n",
    "# Cleaning for cugraph etc: good practice to do at the beginning\n",
    "fb_df['s'] = fb_df['s'].astype('int32')  # from int64\n",
    "fb_df['d'] = fb_df['d'].astype('int32')  # from int64\n",
    "\n",
    "# Wrap in graphistry for easier graph-y manipulations\n",
    "g = (\n",
    "    graphistry\n",
    "    .edges(fb_df, 's', 'd')  # Bind data, schema\n",
    "    .materialize_nodes()     # Autogenerate a g._nodes datafame from g._edges\n",
    ")"
   ]
  },
  {
   "cell_type": "code",
   "execution_count": 28,
   "metadata": {},
   "outputs": [
    {
     "name": "stdout",
     "output_type": "stream",
     "text": [
      "EDGES: (88233, 2)\n",
      "NODES: (88233, 2)\n"
     ]
    },
    {
     "data": {
      "text/html": [
       "<div>\n",
       "<style scoped>\n",
       "    .dataframe tbody tr th:only-of-type {\n",
       "        vertical-align: middle;\n",
       "    }\n",
       "\n",
       "    .dataframe tbody tr th {\n",
       "        vertical-align: top;\n",
       "    }\n",
       "\n",
       "    .dataframe thead th {\n",
       "        text-align: right;\n",
       "    }\n",
       "</style>\n",
       "<table border=\"1\" class=\"dataframe\">\n",
       "  <thead>\n",
       "    <tr style=\"text-align: right;\">\n",
       "      <th></th>\n",
       "      <th>s</th>\n",
       "      <th>d</th>\n",
       "    </tr>\n",
       "  </thead>\n",
       "  <tbody>\n",
       "    <tr>\n",
       "      <th>76797</th>\n",
       "      <td>2929</td>\n",
       "      <td>3047</td>\n",
       "    </tr>\n",
       "    <tr>\n",
       "      <th>10164</th>\n",
       "      <td>705</td>\n",
       "      <td>763</td>\n",
       "    </tr>\n",
       "    <tr>\n",
       "      <th>21970</th>\n",
       "      <td>1158</td>\n",
       "      <td>1583</td>\n",
       "    </tr>\n",
       "    <tr>\n",
       "      <th>17551</th>\n",
       "      <td>1048</td>\n",
       "      <td>1753</td>\n",
       "    </tr>\n",
       "    <tr>\n",
       "      <th>47829</th>\n",
       "      <td>2043</td>\n",
       "      <td>2469</td>\n",
       "    </tr>\n",
       "  </tbody>\n",
       "</table>\n",
       "</div>"
      ],
      "text/plain": [
       "          s     d\n",
       "76797  2929  3047\n",
       "10164   705   763\n",
       "21970  1158  1583\n",
       "17551  1048  1753\n",
       "47829  2043  2469"
      ]
     },
     "execution_count": 28,
     "metadata": {},
     "output_type": "execute_result"
    }
   ],
   "source": [
    "print('EDGES:', g._edges.shape)\n",
    "print('NODES:', g._edges.shape)\n",
    "g._edges.sample(5)"
   ]
  },
  {
   "cell_type": "code",
   "execution_count": 30,
   "metadata": {},
   "outputs": [
    {
     "data": {
      "text/plain": [
       "id    int32\n",
       "dtype: object"
      ]
     },
     "execution_count": 30,
     "metadata": {},
     "output_type": "execute_result"
    }
   ],
   "source": [
    "g._nodes.dtypes"
   ]
  },
  {
   "cell_type": "code",
   "execution_count": 31,
   "metadata": {},
   "outputs": [
    {
     "data": {
      "text/plain": [
       "s    int32\n",
       "d    int32\n",
       "dtype: object"
      ]
     },
     "execution_count": 31,
     "metadata": {},
     "output_type": "execute_result"
    }
   ],
   "source": [
    "g._edges.dtypes"
   ]
  },
  {
   "cell_type": "code",
   "execution_count": 37,
   "metadata": {},
   "outputs": [
    {
     "data": {
      "text/html": [
       "\n",
       "            <iframe id=\"a00f9fed-115d-4a5a-b382-52beccf146d0\" src=\"/graph/graph.html?dataset=3b04dfd67475418087790bfe09ba22f2&type=arrow&viztoken=ea137522-d9c2-46df-87b9-f7b8481b8f80&usertag=8182441e-pygraphistry-0.20.1&splashAfter=1637220808&info=true\"\n",
       "                    allowfullscreen=\"true\" webkitallowfullscreen=\"true\" mozallowfullscreen=\"true\"\n",
       "                    oallowfullscreen=\"true\" msallowfullscreen=\"true\"\n",
       "                    style=\"width:100%; height:500px; border: 1px solid #DDD; overflow: hidden\">\n",
       "            </iframe>\n",
       "        \n",
       "            <script>\n",
       "                try {\n",
       "                  $(\"#a00f9fed-115d-4a5a-b382-52beccf146d0\").bind('mousewheel', function(e) { e.preventDefault(); });\n",
       "                } catch (e) { console.error('exn catching scroll', e); }\n",
       "            </script>\n",
       "        "
      ],
      "text/plain": [
       "<IPython.core.display.HTML object>"
      ]
     },
     "execution_count": 37,
     "metadata": {},
     "output_type": "execute_result"
    }
   ],
   "source": [
    "g.plot()"
   ]
  },
  {
   "cell_type": "markdown",
   "metadata": {},
   "source": [
    "# Go GPU: RAPIDS.ai's cuDF dataframes & cuGraph analytics\n",
    "\n",
    "Prepare data for cuGraph: edge weights + move to GPU"
   ]
  },
  {
   "cell_type": "code",
   "execution_count": 38,
   "metadata": {},
   "outputs": [],
   "source": [
    "g2 = (\n",
    "    g.edges(g._edges.assign(ew=1.0))            # create weights column\n",
    "    .bind(edge_weight='ew')                     # bind it so we can forget the name\n",
    "    .edges(lambda g: cudf.DataFrame(g._edges))  # copy edges to GPU\n",
    "    .edges(lambda g: g._edges.assign(ew=g._edges['ew'].astype('float32')))\n",
    "    .nodes(lambda g: cudf.DataFrame(g._nodes))  # copy nodes to GPU\n",
    ")\n",
    "\n",
    "G = graphistry_to_cugraph(g2)"
   ]
  },
  {
   "cell_type": "markdown",
   "metadata": {},
   "source": [
    "# Community detection\n",
    "\n",
    "Many algorithms enable partitioning the graph into communities\n",
    "\n",
    "Variations:\n",
    "\n",
    "* Hierarchical\n",
    "* Strong relationships: Triangles, K-Trusses, ...\n",
    "* Node vs edges; single or multi-label\n",
    "  * Ex: Someone may be in multiple networks - school, work, ...\n",
    "  * Communities may have relationships & nesting: Pudding -> Chocolate -> Dessert -> Food"
   ]
  },
  {
   "cell_type": "code",
   "execution_count": 39,
   "metadata": {},
   "outputs": [],
   "source": [
    "spectral_df = cugraph.spectralBalancedCutClustering(G, 10)"
   ]
  },
  {
   "cell_type": "code",
   "execution_count": 40,
   "metadata": {},
   "outputs": [
    {
     "data": {
      "text/html": [
       "<div>\n",
       "<style scoped>\n",
       "    .dataframe tbody tr th:only-of-type {\n",
       "        vertical-align: middle;\n",
       "    }\n",
       "\n",
       "    .dataframe tbody tr th {\n",
       "        vertical-align: top;\n",
       "    }\n",
       "\n",
       "    .dataframe thead th {\n",
       "        text-align: right;\n",
       "    }\n",
       "</style>\n",
       "<table border=\"1\" class=\"dataframe\">\n",
       "  <thead>\n",
       "    <tr style=\"text-align: right;\">\n",
       "      <th></th>\n",
       "      <th>cluster</th>\n",
       "      <th>vertex</th>\n",
       "    </tr>\n",
       "  </thead>\n",
       "  <tbody>\n",
       "    <tr>\n",
       "      <th>585</th>\n",
       "      <td>6</td>\n",
       "      <td>489</td>\n",
       "    </tr>\n",
       "    <tr>\n",
       "      <th>1733</th>\n",
       "      <td>4</td>\n",
       "      <td>3002</td>\n",
       "    </tr>\n",
       "    <tr>\n",
       "      <th>826</th>\n",
       "      <td>4</td>\n",
       "      <td>3144</td>\n",
       "    </tr>\n",
       "  </tbody>\n",
       "</table>\n",
       "</div>"
      ],
      "text/plain": [
       "      cluster  vertex\n",
       "585         6     489\n",
       "1733        4    3002\n",
       "826         4    3144"
      ]
     },
     "execution_count": 40,
     "metadata": {},
     "output_type": "execute_result"
    }
   ],
   "source": [
    "spectral_df.sample(3)"
   ]
  },
  {
   "cell_type": "code",
   "execution_count": 41,
   "metadata": {},
   "outputs": [
    {
     "data": {
      "text/html": [
       "\n",
       "            <iframe id=\"78665f92-ff8c-46c6-812f-e9eda043d94f\" src=\"/graph/graph.html?dataset=d78799d09293445f9948342d14a0db0c&type=arrow&viztoken=8f60f373-0ecd-4ca0-bdb3-68229fcb942a&usertag=8182441e-pygraphistry-0.20.1&splashAfter=1637220845&info=true\"\n",
       "                    allowfullscreen=\"true\" webkitallowfullscreen=\"true\" mozallowfullscreen=\"true\"\n",
       "                    oallowfullscreen=\"true\" msallowfullscreen=\"true\"\n",
       "                    style=\"width:100%; height:500px; border: 1px solid #DDD; overflow: hidden\">\n",
       "            </iframe>\n",
       "        \n",
       "            <script>\n",
       "                try {\n",
       "                  $(\"#78665f92-ff8c-46c6-812f-e9eda043d94f\").bind('mousewheel', function(e) { e.preventDefault(); });\n",
       "                } catch (e) { console.error('exn catching scroll', e); }\n",
       "            </script>\n",
       "        "
      ],
      "text/plain": [
       "<IPython.core.display.HTML object>"
      ]
     },
     "execution_count": 41,
     "metadata": {},
     "output_type": "execute_result"
    }
   ],
   "source": [
    "g3 = merge_in_enriched_entities(g2, spectral_df, enrich_as='spectral')\n",
    "g3.encode_point_color('spectral').plot(memoize=False)"
   ]
  },
  {
   "cell_type": "markdown",
   "metadata": {},
   "source": [
    "## Importance: K-core, Betweenness, Pagerank"
   ]
  },
  {
   "cell_type": "code",
   "execution_count": 48,
   "metadata": {},
   "outputs": [
    {
     "name": "stdout",
     "output_type": "stream",
     "text": [
      "betweenness..\n",
      "core..\n",
      "pagerank..\n",
      "hits: authorities & hubs..\n",
      "hits: ecg\n",
      "CPU times: user 9.47 s, sys: 207 ms, total: 9.68 s\n",
      "Wall time: 9.63 s\n"
     ]
    },
    {
     "data": {
      "text/html": [
       "<div>\n",
       "<style scoped>\n",
       "    .dataframe tbody tr th:only-of-type {\n",
       "        vertical-align: middle;\n",
       "    }\n",
       "\n",
       "    .dataframe tbody tr th {\n",
       "        vertical-align: top;\n",
       "    }\n",
       "\n",
       "    .dataframe thead th {\n",
       "        text-align: right;\n",
       "    }\n",
       "</style>\n",
       "<table border=\"1\" class=\"dataframe\">\n",
       "  <thead>\n",
       "    <tr style=\"text-align: right;\">\n",
       "      <th></th>\n",
       "      <th>id</th>\n",
       "      <th>spectral</th>\n",
       "      <th>betweenness_centrality</th>\n",
       "      <th>core_number</th>\n",
       "      <th>pagerank</th>\n",
       "      <th>hubs</th>\n",
       "      <th>authorities</th>\n",
       "      <th>ecg</th>\n",
       "    </tr>\n",
       "  </thead>\n",
       "  <tbody>\n",
       "    <tr>\n",
       "      <th>2231</th>\n",
       "      <td>565</td>\n",
       "      <td>2</td>\n",
       "      <td>6.262184e-07</td>\n",
       "      <td>19</td>\n",
       "      <td>0.000157</td>\n",
       "      <td>5.381999e-08</td>\n",
       "      <td>5.382001e-08</td>\n",
       "      <td>8</td>\n",
       "    </tr>\n",
       "    <tr>\n",
       "      <th>45</th>\n",
       "      <td>2273</td>\n",
       "      <td>2</td>\n",
       "      <td>9.994309e-06</td>\n",
       "      <td>70</td>\n",
       "      <td>0.000287</td>\n",
       "      <td>2.556941e-04</td>\n",
       "      <td>2.556941e-04</td>\n",
       "      <td>26</td>\n",
       "    </tr>\n",
       "    <tr>\n",
       "      <th>3130</th>\n",
       "      <td>2642</td>\n",
       "      <td>2</td>\n",
       "      <td>5.477193e-04</td>\n",
       "      <td>70</td>\n",
       "      <td>0.000451</td>\n",
       "      <td>3.348714e-04</td>\n",
       "      <td>3.348715e-04</td>\n",
       "      <td>26</td>\n",
       "    </tr>\n",
       "    <tr>\n",
       "      <th>2146</th>\n",
       "      <td>519</td>\n",
       "      <td>7</td>\n",
       "      <td>1.902928e-06</td>\n",
       "      <td>18</td>\n",
       "      <td>0.000210</td>\n",
       "      <td>3.836348e-08</td>\n",
       "      <td>3.836349e-08</td>\n",
       "      <td>8</td>\n",
       "    </tr>\n",
       "    <tr>\n",
       "      <th>3987</th>\n",
       "      <td>3915</td>\n",
       "      <td>7</td>\n",
       "      <td>1.970432e-06</td>\n",
       "      <td>14</td>\n",
       "      <td>0.000268</td>\n",
       "      <td>3.591928e-11</td>\n",
       "      <td>3.591930e-11</td>\n",
       "      <td>20</td>\n",
       "    </tr>\n",
       "  </tbody>\n",
       "</table>\n",
       "</div>"
      ],
      "text/plain": [
       "        id  spectral  betweenness_centrality  core_number  pagerank  \\\n",
       "2231   565         2            6.262184e-07           19  0.000157   \n",
       "45    2273         2            9.994309e-06           70  0.000287   \n",
       "3130  2642         2            5.477193e-04           70  0.000451   \n",
       "2146   519         7            1.902928e-06           18  0.000210   \n",
       "3987  3915         7            1.970432e-06           14  0.000268   \n",
       "\n",
       "              hubs   authorities  ecg  \n",
       "2231  5.381999e-08  5.382001e-08    8  \n",
       "45    2.556941e-04  2.556941e-04   26  \n",
       "3130  3.348714e-04  3.348715e-04   26  \n",
       "2146  3.836348e-08  3.836349e-08    8  \n",
       "3987  3.591928e-11  3.591930e-11   20  "
      ]
     },
     "execution_count": 48,
     "metadata": {},
     "output_type": "execute_result"
    }
   ],
   "source": [
    "%%time\n",
    "\n",
    "print('betweenness..')\n",
    "g4 = merge_in_vertex_alg(g3, 'betweenness_centrality', G)\n",
    "\n",
    "print('core..')\n",
    "g4 = merge_in_vertex_alg(g4, 'core_number', G)\n",
    "\n",
    "print('pagerank..')\n",
    "g4 = merge_in_vertex_alg(g4, 'pagerank', G)\n",
    "\n",
    "print('hits: authorities & hubs..')\n",
    "g4 = merge_in_enriched_entities(g4, cugraph.hits(G))\n",
    "\n",
    "print('hits: ecg')\n",
    "g4 = merge_in_vertex_alg(g4, 'ecg', G)\n",
    "\n",
    "\n",
    "# Not working at time of use:\n",
    "#g4 = merge_in_vertex_alg(g4, 'louvain', G)\n",
    "#g4 = merge_in_vertex_alg(g4, 'leiden', G)\n",
    "\n",
    "g4._nodes.sample(5)"
   ]
  },
  {
   "cell_type": "code",
   "execution_count": 47,
   "metadata": {},
   "outputs": [
    {
     "data": {
      "text/html": [
       "\n",
       "            <iframe id=\"ffa160e9-327c-4624-9354-d7f36f686972\" src=\"/graph/graph.html?dataset=e51752fcd0a94dc1b5787f4702a7f225&type=arrow&viztoken=bb9c221c-603d-4c90-a7ad-a42169d457a0&usertag=8182441e-pygraphistry-0.20.1&splashAfter=1637220994&info=true\"\n",
       "                    allowfullscreen=\"true\" webkitallowfullscreen=\"true\" mozallowfullscreen=\"true\"\n",
       "                    oallowfullscreen=\"true\" msallowfullscreen=\"true\"\n",
       "                    style=\"width:100%; height:500px; border: 1px solid #DDD; overflow: hidden\">\n",
       "            </iframe>\n",
       "        \n",
       "            <script>\n",
       "                try {\n",
       "                  $(\"#ffa160e9-327c-4624-9354-d7f36f686972\").bind('mousewheel', function(e) { e.preventDefault(); });\n",
       "                } catch (e) { console.error('exn catching scroll', e); }\n",
       "            </script>\n",
       "        "
      ],
      "text/plain": [
       "<IPython.core.display.HTML object>"
      ]
     },
     "execution_count": 47,
     "metadata": {},
     "output_type": "execute_result"
    }
   ],
   "source": [
    "(g4\n",
    " .encode_point_color('core_number', palette=['blue', 'red', 'yellow'], as_continuous=True)\n",
    " .encode_point_size('betweenness_centrality')\n",
    ").plot()"
   ]
  },
  {
   "cell_type": "markdown",
   "metadata": {},
   "source": [
    "# Next steps\n",
    "\n",
    "Many tools! \n",
    "\n",
    "Some popular for classic visual graph analytics:\n",
    "\n",
    "* viz:\n",
    "  * https://github.com/graphistry/pygraphistry  - notebooks, dataframes, js, GPU, etc\n",
    "  * bio: cytoscape\n",
    "  * manual: d3js\n",
    "  * legacy: gephi\n",
    "* classic small graph analytics (cpu): https://networkx.org/\n",
    "* classic big graph analytics\n",
    "  * gpu: https://github.com/rapidsai/cugraph\n",
    "  * graph DB/compute vendors have assorted alg libs: Neo4j, TigerGraph, Neptune, ...\n",
    "  * legacy: Stanford SNAP"
   ]
  },
  {
   "cell_type": "code",
   "execution_count": null,
   "metadata": {},
   "outputs": [],
   "source": []
  }
 ],
 "metadata": {
  "kernelspec": {
   "display_name": "Python 3",
   "language": "python",
   "name": "python3"
  },
  "language_info": {
   "codemirror_mode": {
    "name": "ipython",
    "version": 3
   },
   "file_extension": ".py",
   "mimetype": "text/x-python",
   "name": "python",
   "nbconvert_exporter": "python",
   "pygments_lexer": "ipython3",
   "version": "3.8.6"
  }
 },
 "nbformat": 4,
 "nbformat_minor": 5
}
