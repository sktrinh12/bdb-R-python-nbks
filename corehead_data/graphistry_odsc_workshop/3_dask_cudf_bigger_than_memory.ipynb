{
 "cells": [
  {
   "cell_type": "markdown",
   "id": "1251985e-0c0e-4e3c-a0e5-7aaeb95061a8",
   "metadata": {},
   "source": [
    "# GPU & Multi-GPU / Bigger-Than-Memory Demo\n",
    "\n",
    "1. Get data\n",
    "2. Use from local GPU process: single GPU, in-memory, with cudf\n",
    "3. Use from remote GPU process(es): multi GPU, bigger-than-memory, with dask_cudf\n",
    "4. Use cuGraph to compute pagerank and then color Graphistry nodes using it\n"
   ]
  },
  {
   "cell_type": "markdown",
   "id": "12071143-ba47-48bb-a9d3-241020b4f394",
   "metadata": {},
   "source": [
    "## 1. Get data\n",
    "\n",
    "* We strongly recommend Parquet for both single + multi-GPU\n",
    "* In multi-gpu / bigger-than-memory (dask) mode:\n",
    "  * Each `file.parquet/partXYZ` is a distributed unit of work\n",
    "  * Aim for 10MB - 2GB for GPUs that are ~10GB\n",
    "  * ... as this leaves 2-10X space for working memory + co-resident tenants\n",
    "  * If parallel storage arrays are available, try striping partitions by PCI card"
   ]
  },
  {
   "cell_type": "code",
   "execution_count": null,
   "id": "16ec86ac-66ce-4aa0-a190-d1cbf7b4c5d1",
   "metadata": {},
   "outputs": [],
   "source": [
    "file_names = [\n",
    "    'https://github.com/Teradata/kylo/blob/master/samples/sample-data/parquet/userdata1.parquet?raw=true',\n",
    "    'https://github.com/Teradata/kylo/blob/master/samples/sample-data/parquet/userdata2.parquet?raw=true',\n",
    "    'https://github.com/Teradata/kylo/blob/master/samples/sample-data/parquet/userdata3.parquet?raw=true',\n",
    "    'https://github.com/Teradata/kylo/blob/master/samples/sample-data/parquet/userdata4.parquet?raw=true',\n",
    "    'https://github.com/Teradata/kylo/blob/master/samples/sample-data/parquet/userdata5.parquet?raw=true'\n",
    "]\n",
    "\n",
    "! wget https://github.com/Teradata/kylo/blob/master/samples/sample-data/parquet/userdata1.parquet?raw=true\n",
    "! wget https://github.com/Teradata/kylo/blob/master/samples/sample-data/parquet/userdata2.parquet?raw=true\n",
    "! wget https://github.com/Teradata/kylo/blob/master/samples/sample-data/parquet/userdata3.parquet?raw=true\n",
    "! wget https://github.com/Teradata/kylo/blob/master/samples/sample-data/parquet/userdata4.parquet?raw=true\n",
    "! wget https://github.com/Teradata/kylo/blob/master/samples/sample-data/parquet/userdata5.parquet?raw=true"
   ]
  },
  {
   "cell_type": "code",
   "execution_count": 41,
   "id": "331f00b8-57fc-4ec0-ae61-d3a1bc7a5f5c",
   "metadata": {},
   "outputs": [],
   "source": [
    "file_names2 = [\n",
    "    'userdata1.parquet?raw=true',\n",
    "    'userdata2.parquet?raw=true',\n",
    "    'userdata3.parquet?raw=true',\n",
    "    'userdata4.parquet?raw=true',\n",
    "    'userdata5.parquet?raw=true'\n",
    "]"
   ]
  },
  {
   "cell_type": "code",
   "execution_count": 14,
   "id": "d6ccbfd1-f184-416f-83a3-bd2aa8e2b24c",
   "metadata": {},
   "outputs": [
    {
     "data": {
      "text/plain": [
       "('0.20.1', '21.10.01')"
      ]
     },
     "execution_count": 14,
     "metadata": {},
     "output_type": "execute_result"
    }
   ],
   "source": [
    "import cudf, cugraph, dask.dataframe as da, dask_cudf, graphistry, pandas as pd, numpy as np\n",
    "from dask.distributed import Client\n",
    "graphistry.__version__, cudf.__version__"
   ]
  },
  {
   "cell_type": "code",
   "execution_count": 15,
   "id": "b0bce36b-8424-4ef7-9cbd-771e69c2b61c",
   "metadata": {},
   "outputs": [],
   "source": [
    "#graphistry.register(api=3, username='admin', password='i-instanceid')"
   ]
  },
  {
   "cell_type": "markdown",
   "id": "b214b35b-fd71-4d36-b51d-bac55c6eac7b",
   "metadata": {},
   "source": [
    "## 2. Use from local GPU process: single GPU, in-memory, with cudf\n",
    "\n",
    "Try not to leave dangling GPU df pointers so GPU memory is freed by end of the cell"
   ]
  },
  {
   "cell_type": "code",
   "execution_count": 51,
   "id": "048ad414-dab4-4b98-a1cc-6924c96b01cd",
   "metadata": {},
   "outputs": [
    {
     "data": {
      "text/html": [
       "<div>\n",
       "<style scoped>\n",
       "    .dataframe tbody tr th:only-of-type {\n",
       "        vertical-align: middle;\n",
       "    }\n",
       "\n",
       "    .dataframe tbody tr th {\n",
       "        vertical-align: top;\n",
       "    }\n",
       "\n",
       "    .dataframe thead th {\n",
       "        text-align: right;\n",
       "    }\n",
       "</style>\n",
       "<table border=\"1\" class=\"dataframe\">\n",
       "  <thead>\n",
       "    <tr style=\"text-align: right;\">\n",
       "      <th></th>\n",
       "      <th>registration_dttm</th>\n",
       "      <th>id</th>\n",
       "      <th>first_name</th>\n",
       "      <th>last_name</th>\n",
       "      <th>email</th>\n",
       "      <th>gender</th>\n",
       "      <th>ip_address</th>\n",
       "      <th>cc</th>\n",
       "      <th>country</th>\n",
       "      <th>birthdate</th>\n",
       "      <th>salary</th>\n",
       "      <th>title</th>\n",
       "      <th>comments</th>\n",
       "    </tr>\n",
       "  </thead>\n",
       "  <tbody>\n",
       "    <tr>\n",
       "      <th>960</th>\n",
       "      <td>2016-02-03 04:57:20</td>\n",
       "      <td>961</td>\n",
       "      <td>Fred</td>\n",
       "      <td>Patterson</td>\n",
       "      <td>fpattersonqo@globo.com</td>\n",
       "      <td>Male</td>\n",
       "      <td>176.143.33.162</td>\n",
       "      <td></td>\n",
       "      <td>Indonesia</td>\n",
       "      <td>7/18/1996</td>\n",
       "      <td>215783.39</td>\n",
       "      <td>Senior Quality Engineer</td>\n",
       "      <td></td>\n",
       "    </tr>\n",
       "    <tr>\n",
       "      <th>466</th>\n",
       "      <td>2016-02-03 08:15:40</td>\n",
       "      <td>467</td>\n",
       "      <td>Joyce</td>\n",
       "      <td>Carpenter</td>\n",
       "      <td>jcarpentercy@tamu.edu</td>\n",
       "      <td>Female</td>\n",
       "      <td>122.240.54.87</td>\n",
       "      <td>4026953290166042</td>\n",
       "      <td>Argentina</td>\n",
       "      <td></td>\n",
       "      <td>271799.80</td>\n",
       "      <td></td>\n",
       "      <td></td>\n",
       "    </tr>\n",
       "    <tr>\n",
       "      <th>64</th>\n",
       "      <td>2016-02-03 05:50:26</td>\n",
       "      <td>65</td>\n",
       "      <td>Raymond</td>\n",
       "      <td>Jacobs</td>\n",
       "      <td>rjacobs1s@sohu.com</td>\n",
       "      <td>Male</td>\n",
       "      <td>188.52.98.175</td>\n",
       "      <td>5048378563875353</td>\n",
       "      <td>Indonesia</td>\n",
       "      <td></td>\n",
       "      <td>13673.35</td>\n",
       "      <td></td>\n",
       "      <td></td>\n",
       "    </tr>\n",
       "    <tr>\n",
       "      <th>81</th>\n",
       "      <td>2016-02-03 23:43:15</td>\n",
       "      <td>82</td>\n",
       "      <td>Carol</td>\n",
       "      <td>Franklin</td>\n",
       "      <td>cfranklin29@marketwatch.com</td>\n",
       "      <td>Female</td>\n",
       "      <td>32.189.30.244</td>\n",
       "      <td>67097647572873744</td>\n",
       "      <td>China</td>\n",
       "      <td>6/5/1978</td>\n",
       "      <td>31572.53</td>\n",
       "      <td>Automation Specialist II</td>\n",
       "      <td></td>\n",
       "    </tr>\n",
       "    <tr>\n",
       "      <th>409</th>\n",
       "      <td>2016-02-03 16:49:00</td>\n",
       "      <td>410</td>\n",
       "      <td>Kelly</td>\n",
       "      <td>Nguyen</td>\n",
       "      <td>knguyenbd@google.co.uk</td>\n",
       "      <td>Female</td>\n",
       "      <td>150.16.62.11</td>\n",
       "      <td></td>\n",
       "      <td>Philippines</td>\n",
       "      <td>9/27/1963</td>\n",
       "      <td>194611.56</td>\n",
       "      <td>Office Assistant III</td>\n",
       "      <td></td>\n",
       "    </tr>\n",
       "  </tbody>\n",
       "</table>\n",
       "</div>"
      ],
      "text/plain": [
       "      registration_dttm   id first_name  last_name  \\\n",
       "960 2016-02-03 04:57:20  961       Fred  Patterson   \n",
       "466 2016-02-03 08:15:40  467      Joyce  Carpenter   \n",
       "64  2016-02-03 05:50:26   65    Raymond     Jacobs   \n",
       "81  2016-02-03 23:43:15   82      Carol   Franklin   \n",
       "409 2016-02-03 16:49:00  410      Kelly     Nguyen   \n",
       "\n",
       "                           email  gender      ip_address                 cc  \\\n",
       "960       fpattersonqo@globo.com    Male  176.143.33.162                      \n",
       "466        jcarpentercy@tamu.edu  Female   122.240.54.87   4026953290166042   \n",
       "64            rjacobs1s@sohu.com    Male   188.52.98.175   5048378563875353   \n",
       "81   cfranklin29@marketwatch.com  Female   32.189.30.244  67097647572873744   \n",
       "409       knguyenbd@google.co.uk  Female    150.16.62.11                      \n",
       "\n",
       "         country  birthdate     salary                     title comments  \n",
       "960    Indonesia  7/18/1996  215783.39   Senior Quality Engineer           \n",
       "466    Argentina             271799.80                                     \n",
       "64     Indonesia              13673.35                                     \n",
       "81         China   6/5/1978   31572.53  Automation Specialist II           \n",
       "409  Philippines  9/27/1963  194611.56      Office Assistant III           "
      ]
     },
     "execution_count": 51,
     "metadata": {},
     "output_type": "execute_result"
    }
   ],
   "source": [
    "pd.read_parquet('./userdata1.parquet?raw=true').sample(5)"
   ]
  },
  {
   "cell_type": "code",
   "execution_count": 44,
   "id": "bca503b2-ffed-4b72-aed7-a01459669425",
   "metadata": {},
   "outputs": [
    {
     "name": "stdout",
     "output_type": "stream",
     "text": [
      "CPU times: user 5.96 ms, sys: 464 µs, total: 6.43 ms\n",
      "Wall time: 4.03 ms\n"
     ]
    },
    {
     "data": {
      "text/plain": [
       "1000"
      ]
     },
     "execution_count": 44,
     "metadata": {},
     "output_type": "execute_result"
    }
   ],
   "source": [
    "%%time\n",
    "len(pd.read_parquet('./userdata1.parquet?raw=true'))"
   ]
  },
  {
   "cell_type": "code",
   "execution_count": 45,
   "id": "89ca6f68-0012-4180-ae4e-d62eaeaf4910",
   "metadata": {},
   "outputs": [
    {
     "name": "stdout",
     "output_type": "stream",
     "text": [
      "CPU times: user 6.9 ms, sys: 0 ns, total: 6.9 ms\n",
      "Wall time: 6.3 ms\n"
     ]
    },
    {
     "data": {
      "text/plain": [
       "1000"
      ]
     },
     "execution_count": 45,
     "metadata": {},
     "output_type": "execute_result"
    }
   ],
   "source": [
    "%%time\n",
    "len(cudf.read_parquet('./userdata1.parquet?raw=true'))"
   ]
  },
  {
   "cell_type": "code",
   "execution_count": 50,
   "id": "422d4032-e16b-486c-925f-9800bcc9c550",
   "metadata": {},
   "outputs": [
    {
     "name": "stdout",
     "output_type": "stream",
     "text": [
      "CPU times: user 40 ms, sys: 44.5 ms, total: 84.5 ms\n",
      "Wall time: 83.5 ms\n"
     ]
    },
    {
     "data": {
      "text/plain": [
       "500000"
      ]
     },
     "execution_count": 50,
     "metadata": {},
     "output_type": "execute_result"
    }
   ],
   "source": [
    "%%time\n",
    "len(cudf.read_parquet(file_names2 * 100))"
   ]
  },
  {
   "cell_type": "code",
   "execution_count": 69,
   "id": "d6068d2e-c019-4e65-9cc1-b14f84f58642",
   "metadata": {},
   "outputs": [
    {
     "data": {
      "text/html": [
       "\n",
       "            <iframe id=\"5cbd4905-ab5f-48ba-b15f-2d2dc3c7b0ac\" src=\"/graph/graph.html?dataset=bc00fcc715bd412d93d4c2c59a7f1954&type=arrow&viztoken=12d971fc-d59f-4f7a-82e9-7d085254ee17&usertag=8182441e-pygraphistry-0.20.1&splashAfter=1637231737&info=true\"\n",
       "                    allowfullscreen=\"true\" webkitallowfullscreen=\"true\" mozallowfullscreen=\"true\"\n",
       "                    oallowfullscreen=\"true\" msallowfullscreen=\"true\"\n",
       "                    style=\"width:100%; height:500px; border: 1px solid #DDD; overflow: hidden\">\n",
       "            </iframe>\n",
       "        \n",
       "            <script>\n",
       "                try {\n",
       "                  $(\"#5cbd4905-ab5f-48ba-b15f-2d2dc3c7b0ac\").bind('mousewheel', function(e) { e.preventDefault(); });\n",
       "                } catch (e) { console.error('exn catching scroll', e); }\n",
       "            </script>\n",
       "        "
      ],
      "text/plain": [
       "<IPython.core.display.HTML object>"
      ]
     },
     "execution_count": 69,
     "metadata": {},
     "output_type": "execute_result"
    }
   ],
   "source": [
    "(graphistry\n",
    " .edges(cudf.read_parquet(file_names2, num_rows=100000), 'first_name', 'last_name')).plot()"
   ]
  },
  {
   "cell_type": "code",
   "execution_count": 10,
   "id": "5efeb979-516e-4140-9ed0-2f5018b0c99f",
   "metadata": {},
   "outputs": [
    {
     "name": "stdout",
     "output_type": "stream",
     "text": [
      "Mon Oct 11 06:45:19 2021       \n",
      "+-----------------------------------------------------------------------------+\n",
      "| NVIDIA-SMI 460.91.03    Driver Version: 460.91.03    CUDA Version: 11.2     |\n",
      "|-------------------------------+----------------------+----------------------+\n",
      "| GPU  Name        Persistence-M| Bus-Id        Disp.A | Volatile Uncorr. ECC |\n",
      "| Fan  Temp  Perf  Pwr:Usage/Cap|         Memory-Usage | GPU-Util  Compute M. |\n",
      "|                               |                      |               MIG M. |\n",
      "|===============================+======================+======================|\n",
      "|   0  Tesla V100-PCIE...  Off  | 00000001:00:00.0 Off |                  Off |\n",
      "| N/A   24C    P0    39W / 250W |   5122MiB / 16160MiB |      0%      Default |\n",
      "|                               |                      |                  N/A |\n",
      "+-------------------------------+----------------------+----------------------+\n",
      "                                                                               \n",
      "+-----------------------------------------------------------------------------+\n",
      "| Processes:                                                                  |\n",
      "|  GPU   GI   CI        PID   Type   Process name                  GPU Memory |\n",
      "|        ID   ID                                                   Usage      |\n",
      "|=============================================================================|\n",
      "+-----------------------------------------------------------------------------+\n"
     ]
    }
   ],
   "source": [
    "! nvidia-smi"
   ]
  },
  {
   "cell_type": "code",
   "execution_count": 12,
   "id": "ff241ffe-5eba-4dc3-b556-fc6791f04cad",
   "metadata": {},
   "outputs": [
    {
     "name": "stdout",
     "output_type": "stream",
     "text": [
      "Mon Oct 11 06:45:30 2021       \n",
      "+-----------------------------------------------------------------------------+\n",
      "| NVIDIA-SMI 460.91.03    Driver Version: 460.91.03    CUDA Version: 11.2     |\n",
      "|-------------------------------+----------------------+----------------------+\n",
      "| GPU  Name        Persistence-M| Bus-Id        Disp.A | Volatile Uncorr. ECC |\n",
      "| Fan  Temp  Perf  Pwr:Usage/Cap|         Memory-Usage | GPU-Util  Compute M. |\n",
      "|                               |                      |               MIG M. |\n",
      "|===============================+======================+======================|\n",
      "|   0  Tesla V100-PCIE...  Off  | 00000001:00:00.0 Off |                  Off |\n",
      "| N/A   24C    P0    34W / 250W |   5122MiB / 16160MiB |      3%      Default |\n",
      "|                               |                      |                  N/A |\n",
      "+-------------------------------+----------------------+----------------------+\n",
      "                                                                               \n",
      "+-----------------------------------------------------------------------------+\n",
      "| Processes:                                                                  |\n",
      "|  GPU   GI   CI        PID   Type   Process name                  GPU Memory |\n",
      "|        ID   ID                                                   Usage      |\n",
      "|=============================================================================|\n",
      "+-----------------------------------------------------------------------------+\n"
     ]
    }
   ],
   "source": [
    "! nvidia-smi"
   ]
  },
  {
   "cell_type": "markdown",
   "id": "5f27f77c-113f-4c7a-b138-c56f73dc2fd5",
   "metadata": {},
   "source": [
    "## 3. Use from remote GPU process(es): multi GPU, bigger-than-memory, with dask_cudf\n",
    "\n",
    "When working with slower tasks, bigger-than-memory tasks, or overall crash-y tasks, we recommend using `dask_cudf` over `cudf`, and via the Graphistry-provided `dask-scheduler` GPU service vs a local (in-process) dask GPU scheduler.\n",
    "\n",
    "We recommend using this as it is more resilient and fair. For example, GPU code experiments in Jupyter  might freeze the Jupyter service for everyone, and while autostarts are in place, going through `dask-cuda-worker` will prevent Jupyter from freezing, and auto-restarts kick in much faster for GPU tasks.\n",
    "\n",
    "Folder `/dask-shared` is shared between Jupyter and `dask_cuda` tasks, so put any files there\n"
   ]
  },
  {
   "cell_type": "code",
   "execution_count": 65,
   "id": "d3b59a67-ca50-4f25-845a-981186270793",
   "metadata": {},
   "outputs": [
    {
     "name": "stdout",
     "output_type": "stream",
     "text": [
      "CPU times: user 31.7 ms, sys: 4.7 ms, total: 36.4 ms\n",
      "Wall time: 399 ms\n"
     ]
    },
    {
     "data": {
      "text/plain": [
       "Timestamp('2016-02-04 23:59:55')"
      ]
     },
     "execution_count": 65,
     "metadata": {},
     "output_type": "execute_result"
    }
   ],
   "source": [
    "%%time\n",
    "#Automatically multi-GPU-accelerated analytics\n",
    "# On 1 GPU, not expected to be faster\n",
    "with Client('dask-scheduler:8786'):\n",
    "    dgdf = dask_cudf.read_parquet(file_names)\n",
    "    id_max = dgdf['registration_dttm'].max().compute()\n",
    "    del dgdf\n",
    "\n",
    "id_max"
   ]
  },
  {
   "cell_type": "code",
   "execution_count": 70,
   "id": "b5728457-a1e3-407f-8975-5ec2b1a68e54",
   "metadata": {},
   "outputs": [
    {
     "name": "stdout",
     "output_type": "stream",
     "text": [
      "# partitions:  5\n",
      "mem:  0    158262\n",
      "1    155663\n",
      "2    157159\n",
      "3    156183\n",
      "4    156689\n",
      "dtype: int64\n"
     ]
    },
    {
     "data": {
      "text/html": [
       "\n",
       "            <iframe id=\"bab3e6eb-9142-4bb8-b8aa-e3352631bdb4\" src=\"/graph/graph.html?dataset=088f06e28d6d477c9f6e96b5d2762c7c&type=arrow&viztoken=c89517f4-7059-456d-b820-4643d9b00443&usertag=8182441e-pygraphistry-0.20.1&splashAfter=1637231772&info=true\"\n",
       "                    allowfullscreen=\"true\" webkitallowfullscreen=\"true\" mozallowfullscreen=\"true\"\n",
       "                    oallowfullscreen=\"true\" msallowfullscreen=\"true\"\n",
       "                    style=\"width:100%; height:500px; border: 1px solid #DDD; overflow: hidden\">\n",
       "            </iframe>\n",
       "        \n",
       "            <script>\n",
       "                try {\n",
       "                  $(\"#bab3e6eb-9142-4bb8-b8aa-e3352631bdb4\").bind('mousewheel', function(e) { e.preventDefault(); });\n",
       "                } catch (e) { console.error('exn catching scroll', e); }\n",
       "            </script>\n",
       "        "
      ],
      "text/plain": [
       "<IPython.core.display.HTML object>"
      ]
     },
     "execution_count": 70,
     "metadata": {},
     "output_type": "execute_result"
    }
   ],
   "source": [
    "def clean_gdf(gdf):\n",
    "    return gdf[ gdf['email'].str.len() > 0 ]\n",
    "\n",
    "with Client('dask-scheduler:8786'):\n",
    "\n",
    "    # lazy parallel read: less urgency to explicitly free\n",
    "    edges_dgdf = dask_cudf.read_parquet(file_names, num_rows=100000)\n",
    "\n",
    "    print('# partitions: ', edges_dgdf.npartitions)\n",
    "    print('mem: ', edges_dgdf.map_partitions(lambda gdf: gdf.memory_usage().sum()).compute())\n",
    "\n",
    "    # \"head()\" (or \".compute()\") will gather distributed chunks into single GPU in-memory (cudf)\n",
    "    # No urgency to explicitly free the cudf df because 'p' is html; collected GPU df is auto-GC'd\n",
    "    p = graphistry.edges(edges_dgdf.map_partitions(clean_gdf).head(1000), 'first_name', 'last_name').plot()\n",
    "\n",
    "p"
   ]
  },
  {
   "cell_type": "code",
   "execution_count": 15,
   "id": "44c12062-0bfc-4d21-a8ee-ac238fdf862a",
   "metadata": {},
   "outputs": [
    {
     "name": "stdout",
     "output_type": "stream",
     "text": [
      "Mon Oct 11 06:45:37 2021       \n",
      "+-----------------------------------------------------------------------------+\n",
      "| NVIDIA-SMI 460.91.03    Driver Version: 460.91.03    CUDA Version: 11.2     |\n",
      "|-------------------------------+----------------------+----------------------+\n",
      "| GPU  Name        Persistence-M| Bus-Id        Disp.A | Volatile Uncorr. ECC |\n",
      "| Fan  Temp  Perf  Pwr:Usage/Cap|         Memory-Usage | GPU-Util  Compute M. |\n",
      "|                               |                      |               MIG M. |\n",
      "|===============================+======================+======================|\n",
      "|   0  Tesla V100-PCIE...  Off  | 00000001:00:00.0 Off |                  Off |\n",
      "| N/A   24C    P0    35W / 250W |   5268MiB / 16160MiB |      7%      Default |\n",
      "|                               |                      |                  N/A |\n",
      "+-------------------------------+----------------------+----------------------+\n",
      "                                                                               \n",
      "+-----------------------------------------------------------------------------+\n",
      "| Processes:                                                                  |\n",
      "|  GPU   GI   CI        PID   Type   Process name                  GPU Memory |\n",
      "|        ID   ID                                                   Usage      |\n",
      "|=============================================================================|\n",
      "+-----------------------------------------------------------------------------+\n"
     ]
    }
   ],
   "source": [
    "! nvidia-smi"
   ]
  },
  {
   "cell_type": "code",
   "execution_count": null,
   "id": "8b2451d3-3053-4d63-b2fa-d3621fb190e1",
   "metadata": {},
   "outputs": [],
   "source": [
    "#in Dask menu tab: http://dask-scheduler:8787"
   ]
  },
  {
   "cell_type": "markdown",
   "id": "32c6807b-4b11-43cb-8059-6cc03f545d71",
   "metadata": {},
   "source": [
    "## 4. cuGraph\n",
    "- move edges_df to GPU (cuDF)\n",
    "- convert into GPU graph (cuGraph)\n",
    "- compute pagerank cuDF table for vertices\n",
    "- plot, binding pagerank to color\n",
    "- free memory"
   ]
  },
  {
   "cell_type": "code",
   "execution_count": 78,
   "id": "079cfc63-96b7-4938-8103-25e4fd686d36",
   "metadata": {},
   "outputs": [
    {
     "data": {
      "text/html": [
       "<div>\n",
       "<style scoped>\n",
       "    .dataframe tbody tr th:only-of-type {\n",
       "        vertical-align: middle;\n",
       "    }\n",
       "\n",
       "    .dataframe tbody tr th {\n",
       "        vertical-align: top;\n",
       "    }\n",
       "\n",
       "    .dataframe thead th {\n",
       "        text-align: right;\n",
       "    }\n",
       "</style>\n",
       "<table border=\"1\" class=\"dataframe\">\n",
       "  <thead>\n",
       "    <tr style=\"text-align: right;\">\n",
       "      <th></th>\n",
       "      <th>registration_dttm</th>\n",
       "      <th>id</th>\n",
       "      <th>first_name</th>\n",
       "      <th>last_name</th>\n",
       "      <th>email</th>\n",
       "      <th>gender</th>\n",
       "      <th>ip_address</th>\n",
       "      <th>cc</th>\n",
       "      <th>country</th>\n",
       "      <th>birthdate</th>\n",
       "      <th>salary</th>\n",
       "      <th>title</th>\n",
       "      <th>comments</th>\n",
       "    </tr>\n",
       "  </thead>\n",
       "  <tbody>\n",
       "    <tr>\n",
       "      <th>0</th>\n",
       "      <td>2016-02-03 07:55:29</td>\n",
       "      <td>1</td>\n",
       "      <td>Amanda</td>\n",
       "      <td>Jordan</td>\n",
       "      <td>ajordan0@com.com</td>\n",
       "      <td>Female</td>\n",
       "      <td>1.197.201.2</td>\n",
       "      <td>6759521864920116</td>\n",
       "      <td>Indonesia</td>\n",
       "      <td>3/8/1971</td>\n",
       "      <td>49756.53</td>\n",
       "      <td>Internal Auditor</td>\n",
       "      <td>1E+02</td>\n",
       "    </tr>\n",
       "    <tr>\n",
       "      <th>1</th>\n",
       "      <td>2016-02-03 17:04:03</td>\n",
       "      <td>2</td>\n",
       "      <td>Albert</td>\n",
       "      <td>Freeman</td>\n",
       "      <td>afreeman1@is.gd</td>\n",
       "      <td>Male</td>\n",
       "      <td>218.111.175.34</td>\n",
       "      <td></td>\n",
       "      <td>Canada</td>\n",
       "      <td>1/16/1968</td>\n",
       "      <td>150280.17</td>\n",
       "      <td>Accountant IV</td>\n",
       "      <td></td>\n",
       "    </tr>\n",
       "    <tr>\n",
       "      <th>2</th>\n",
       "      <td>2016-02-03 01:09:31</td>\n",
       "      <td>3</td>\n",
       "      <td>Evelyn</td>\n",
       "      <td>Morgan</td>\n",
       "      <td>emorgan2@altervista.org</td>\n",
       "      <td>Female</td>\n",
       "      <td>7.161.136.94</td>\n",
       "      <td>6767119071901597</td>\n",
       "      <td>Russia</td>\n",
       "      <td>2/1/1960</td>\n",
       "      <td>144972.51</td>\n",
       "      <td>Structural Engineer</td>\n",
       "      <td></td>\n",
       "    </tr>\n",
       "  </tbody>\n",
       "</table>\n",
       "</div>"
      ],
      "text/plain": [
       "    registration_dttm  id first_name last_name                    email  \\\n",
       "0 2016-02-03 07:55:29   1     Amanda    Jordan         ajordan0@com.com   \n",
       "1 2016-02-03 17:04:03   2     Albert   Freeman          afreeman1@is.gd   \n",
       "2 2016-02-03 01:09:31   3     Evelyn    Morgan  emorgan2@altervista.org   \n",
       "\n",
       "   gender      ip_address                cc    country  birthdate     salary  \\\n",
       "0  Female     1.197.201.2  6759521864920116  Indonesia   3/8/1971   49756.53   \n",
       "1    Male  218.111.175.34                       Canada  1/16/1968  150280.17   \n",
       "2  Female    7.161.136.94  6767119071901597     Russia   2/1/1960  144972.51   \n",
       "\n",
       "                 title comments  \n",
       "0     Internal Auditor    1E+02  \n",
       "1        Accountant IV           \n",
       "2  Structural Engineer           "
      ]
     },
     "execution_count": 78,
     "metadata": {},
     "output_type": "execute_result"
    }
   ],
   "source": [
    "e_df = cudf.read_parquet(file_names2)\n",
    "e_df = e_df[ e_df['email'].str.len() > 0 ]\n",
    "\n",
    "e_df.head(3)"
   ]
  },
  {
   "cell_type": "code",
   "execution_count": 79,
   "id": "f629a9c0-f59f-439a-8f61-e1dff8e99edc",
   "metadata": {},
   "outputs": [
    {
     "name": "stdout",
     "output_type": "stream",
     "text": [
      "CPU times: user 55.6 ms, sys: 620 µs, total: 56.2 ms\n",
      "Wall time: 54.9 ms\n"
     ]
    },
    {
     "data": {
      "text/html": [
       "<div>\n",
       "<style scoped>\n",
       "    .dataframe tbody tr th:only-of-type {\n",
       "        vertical-align: middle;\n",
       "    }\n",
       "\n",
       "    .dataframe tbody tr th {\n",
       "        vertical-align: top;\n",
       "    }\n",
       "\n",
       "    .dataframe thead th {\n",
       "        text-align: right;\n",
       "    }\n",
       "</style>\n",
       "<table border=\"1\" class=\"dataframe\">\n",
       "  <thead>\n",
       "    <tr style=\"text-align: right;\">\n",
       "      <th></th>\n",
       "      <th>pagerank</th>\n",
       "      <th>vertex</th>\n",
       "    </tr>\n",
       "  </thead>\n",
       "  <tbody>\n",
       "    <tr>\n",
       "      <th>181</th>\n",
       "      <td>0.001075</td>\n",
       "      <td>Cooper</td>\n",
       "    </tr>\n",
       "    <tr>\n",
       "      <th>344</th>\n",
       "      <td>0.002483</td>\n",
       "      <td>Pamela</td>\n",
       "    </tr>\n",
       "    <tr>\n",
       "      <th>304</th>\n",
       "      <td>0.003036</td>\n",
       "      <td>Mary</td>\n",
       "    </tr>\n",
       "    <tr>\n",
       "      <th>111</th>\n",
       "      <td>0.001882</td>\n",
       "      <td>Mason</td>\n",
       "    </tr>\n",
       "    <tr>\n",
       "      <th>432</th>\n",
       "      <td>0.002071</td>\n",
       "      <td>Day</td>\n",
       "    </tr>\n",
       "    <tr>\n",
       "      <th>383</th>\n",
       "      <td>0.004471</td>\n",
       "      <td>George</td>\n",
       "    </tr>\n",
       "    <tr>\n",
       "      <th>231</th>\n",
       "      <td>0.002171</td>\n",
       "      <td>Ramos</td>\n",
       "    </tr>\n",
       "    <tr>\n",
       "      <th>151</th>\n",
       "      <td>0.001700</td>\n",
       "      <td>Edwards</td>\n",
       "    </tr>\n",
       "    <tr>\n",
       "      <th>365</th>\n",
       "      <td>0.002431</td>\n",
       "      <td>Alan</td>\n",
       "    </tr>\n",
       "    <tr>\n",
       "      <th>410</th>\n",
       "      <td>0.001713</td>\n",
       "      <td>Gonzales</td>\n",
       "    </tr>\n",
       "  </tbody>\n",
       "</table>\n",
       "</div>"
      ],
      "text/plain": [
       "     pagerank    vertex\n",
       "181  0.001075    Cooper\n",
       "344  0.002483    Pamela\n",
       "304  0.003036      Mary\n",
       "111  0.001882     Mason\n",
       "432  0.002071       Day\n",
       "383  0.004471    George\n",
       "231  0.002171     Ramos\n",
       "151  0.001700   Edwards\n",
       "365  0.002431      Alan\n",
       "410  0.001713  Gonzales"
      ]
     },
     "execution_count": 79,
     "metadata": {},
     "output_type": "execute_result"
    }
   ],
   "source": [
    "%%time\n",
    "\n",
    "G = cugraph.Graph()\n",
    "G.from_cudf_edgelist(e_df, source='first_name', destination='last_name')\n",
    "\n",
    "df_page = cugraph.pagerank(G)\n",
    "\n",
    "df_page.sample(10)"
   ]
  },
  {
   "cell_type": "code",
   "execution_count": 80,
   "id": "a7d9a721-01a4-4af7-a38f-26128552b2d3",
   "metadata": {},
   "outputs": [
    {
     "data": {
      "text/html": [
       "\n",
       "            <iframe id=\"2d9599ba-dbfb-4c4a-8226-ab40694b1f43\" src=\"/graph/graph.html?dataset=d686047ae0bb48cb945d52232b9fea5b&type=arrow&viztoken=45a87299-77f2-4117-bc29-73a083f93ceb&usertag=8182441e-pygraphistry-0.20.1&splashAfter=1637232069&info=true\"\n",
       "                    allowfullscreen=\"true\" webkitallowfullscreen=\"true\" mozallowfullscreen=\"true\"\n",
       "                    oallowfullscreen=\"true\" msallowfullscreen=\"true\"\n",
       "                    style=\"width:100%; height:500px; border: 1px solid #DDD; overflow: hidden\">\n",
       "            </iframe>\n",
       "        \n",
       "            <script>\n",
       "                try {\n",
       "                  $(\"#2d9599ba-dbfb-4c4a-8226-ab40694b1f43\").bind('mousewheel', function(e) { e.preventDefault(); });\n",
       "                } catch (e) { console.error('exn catching scroll', e); }\n",
       "            </script>\n",
       "        "
      ],
      "text/plain": [
       "<IPython.core.display.HTML object>"
      ]
     },
     "execution_count": 80,
     "metadata": {},
     "output_type": "execute_result"
    }
   ],
   "source": [
    "g = (graphistry\n",
    "     .edges(e_df, 'first_name', 'last_name')\n",
    "     .nodes(df_page, 'vertex')\n",
    "     .encode_point_color('pagerank', ['blue', 'yellow', 'red'], as_continuous=True))\n",
    "\n",
    "g.plot()"
   ]
  },
  {
   "cell_type": "code",
   "execution_count": 81,
   "id": "6e50b9a9-9ade-4523-a95a-d60be467ca00",
   "metadata": {},
   "outputs": [
    {
     "name": "stdout",
     "output_type": "stream",
     "text": [
      "Thu Nov 18 10:40:55 2021       \n",
      "+-----------------------------------------------------------------------------+\n",
      "| NVIDIA-SMI 450.80.02    Driver Version: 450.80.02    CUDA Version: 11.0     |\n",
      "|-------------------------------+----------------------+----------------------+\n",
      "| GPU  Name        Persistence-M| Bus-Id        Disp.A | Volatile Uncorr. ECC |\n",
      "| Fan  Temp  Perf  Pwr:Usage/Cap|         Memory-Usage | GPU-Util  Compute M. |\n",
      "|                               |                      |               MIG M. |\n",
      "|===============================+======================+======================|\n",
      "|   0  Tesla T4            Off  | 00002C34:00:00.0 Off |                  Off |\n",
      "| N/A   45C    P0    27W /  70W |   7077MiB / 16127MiB |      0%      Default |\n",
      "|                               |                      |                  N/A |\n",
      "+-------------------------------+----------------------+----------------------+\n",
      "                                                                               \n",
      "+-----------------------------------------------------------------------------+\n",
      "| Processes:                                                                  |\n",
      "|  GPU   GI   CI        PID   Type   Process name                  GPU Memory |\n",
      "|        ID   ID                                                   Usage      |\n",
      "|=============================================================================|\n",
      "+-----------------------------------------------------------------------------+\n"
     ]
    }
   ],
   "source": [
    "! nvidia-smi"
   ]
  },
  {
   "cell_type": "code",
   "execution_count": 82,
   "id": "edbbd087-23df-4585-bde4-7bf9a39a83c2",
   "metadata": {},
   "outputs": [],
   "source": [
    "del e_df\n",
    "del df_page\n",
    "del G"
   ]
  },
  {
   "cell_type": "code",
   "execution_count": 71,
   "id": "193c24ac-ef7e-45eb-87d2-87b1b7149491",
   "metadata": {},
   "outputs": [
    {
     "name": "stdout",
     "output_type": "stream",
     "text": [
      "Mon Oct 11 07:19:41 2021       \n",
      "+-----------------------------------------------------------------------------+\n",
      "| NVIDIA-SMI 460.91.03    Driver Version: 460.91.03    CUDA Version: 11.2     |\n",
      "|-------------------------------+----------------------+----------------------+\n",
      "| GPU  Name        Persistence-M| Bus-Id        Disp.A | Volatile Uncorr. ECC |\n",
      "| Fan  Temp  Perf  Pwr:Usage/Cap|         Memory-Usage | GPU-Util  Compute M. |\n",
      "|                               |                      |               MIG M. |\n",
      "|===============================+======================+======================|\n",
      "|   0  Tesla V100-PCIE...  Off  | 00000001:00:00.0 Off |                  Off |\n",
      "| N/A   24C    P0    39W / 250W |   8712MiB / 16160MiB |      0%      Default |\n",
      "|                               |                      |                  N/A |\n",
      "+-------------------------------+----------------------+----------------------+\n",
      "                                                                               \n",
      "+-----------------------------------------------------------------------------+\n",
      "| Processes:                                                                  |\n",
      "|  GPU   GI   CI        PID   Type   Process name                  GPU Memory |\n",
      "|        ID   ID                                                   Usage      |\n",
      "|=============================================================================|\n",
      "+-----------------------------------------------------------------------------+\n"
     ]
    }
   ],
   "source": [
    "! nvidia-smi"
   ]
  },
  {
   "cell_type": "code",
   "execution_count": null,
   "id": "5fc69d14-c26d-49e1-aa4f-4b739d1ec58c",
   "metadata": {},
   "outputs": [],
   "source": []
  }
 ],
 "metadata": {
  "kernelspec": {
   "display_name": "Python 3.7 (RAPIDS)",
   "language": "python",
   "name": "rapids"
  },
  "language_info": {
   "codemirror_mode": {
    "name": "ipython",
    "version": 3
   },
   "file_extension": ".py",
   "mimetype": "text/x-python",
   "name": "python",
   "nbconvert_exporter": "python",
   "pygments_lexer": "ipython3",
   "version": "3.7.10"
  }
 },
 "nbformat": 4,
 "nbformat_minor": 5
}
