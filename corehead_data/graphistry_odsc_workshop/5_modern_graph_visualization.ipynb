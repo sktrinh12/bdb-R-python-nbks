{
 "cells": [
  {
   "cell_type": "markdown",
   "id": "d97f44ec-dc62-4614-9455-e8fe740ce56d",
   "metadata": {},
   "source": [
    "# Modern graph visualization"
   ]
  },
  {
   "cell_type": "code",
   "execution_count": 3,
   "id": "dc58529d-39d6-4467-9ab1-8d06816ae3f0",
   "metadata": {},
   "outputs": [
    {
     "data": {
      "text/plain": [
       "dict_keys(['username', 'password'])"
      ]
     },
     "execution_count": 3,
     "metadata": {},
     "output_type": "execute_result"
    }
   ],
   "source": [
    "# ! pip install --user graphistry\n",
    "\n",
    "import graphistry, json, pandas as pd\n",
    "graphistry_creds = json.load(open('./graphistry_creds.json'))\n",
    "graphistry.register(api=3, **graphistry_creds)\n",
    "\n",
    "graphistry_creds.keys()"
   ]
  },
  {
   "cell_type": "markdown",
   "id": "a7f29b5d-2923-4a69-b193-3f1b8006b830",
   "metadata": {},
   "source": [
    "# 1. Task<>Persona matchup\n",
    "\n",
    "### Task: Exploration, data app / dashboard, report\n",
    "\n",
    "### Persona: Data scientist, data engineer, data analyst, operator, business user, manager, developer\n",
    "\n",
    "Ex: Data scientist & domain expert may want big graphs with flexible low-code\n",
    "\n",
    "Ex: Data engineer may care just about data quality -- query->viz/table\n",
    "\n",
    "Ex: Business user might want only a few big controls like \"search\"\n",
    "\n"
   ]
  },
  {
   "cell_type": "markdown",
   "id": "51ad747c-964f-4cc0-827c-79d1b2ad6f8d",
   "metadata": {},
   "source": [
    "### Not always a fit\n",
    "\n",
    "Ex: Business user might want a *list* of a few top entities, and not care it's a graph\n",
    "\n",
    "```\n",
    "YEAR: [ 2020 | 2021 (Projected) ]\n",
    "\n",
    "Top Accounts\n",
    "---\n",
    "1. Frank - $100M\n",
    "2. Donna - $90M\n",
    "3. Jeff - $50M\n",
    "```\n",
    "\n",
    "### Advice: Think business impact\n",
    "\n",
    "* Get valuable result: You, then others\n",
    "* Get uptake: Defined by others\n",
    "* Should you be spending time on wrangling & models, or html-in-python?\n",
    "  * Minimal amount before someone else can be assigned?\n"
   ]
  },
  {
   "cell_type": "markdown",
   "id": "875e5a59-2594-4646-a836-61acdba1ee8a",
   "metadata": {},
   "source": [
    "# 2. Multi-dimensional data\n",
    "\n",
    "### Graph viz degrees of freedom: Encodings!\n",
    "\n",
    "* Position: X/Y\n",
    "  * NOT z: 3D causes data to overlap and hide!\n",
    "  * Ex: Kineviz started as 3d, now looks like Graphistry\n",
    "  * ... But if you're doing VR or art, have fun!\n",
    "* Color\n",
    "* Size\n",
    "* Icon\n",
    "* Curvature\n",
    "\n",
    "Start simple:\n",
    "\n",
    "* Use node type: color, icon\n",
    "\n",
    "* Pick 1-2 more things to highlight (alert flag, ...)\n",
    "\n",
    "\n",
    "\n",
    "### Cross-linking\n",
    "\n",
    "Ex: Time\n",
    "\n",
    "* Show as edge colors\n",
    "* And as timebar\n"
   ]
  },
  {
   "cell_type": "code",
   "execution_count": 42,
   "id": "ddd96424-66f6-4178-b110-bea64ac802cf",
   "metadata": {},
   "outputs": [],
   "source": [
    "events_df = pd.read_csv('https://raw.githubusercontent.com/graphistry/pygraphistry/master/demos/data/honeypot.csv')\n",
    "events_df['time_min'] = pd.to_datetime(events_df['time(min)'].astype('int64') * 1000000000)\n",
    "events_df['time_max'] = pd.to_datetime(events_df['time(max)'].astype('int64') * 1000000000)"
   ]
  },
  {
   "cell_type": "code",
   "execution_count": 46,
   "id": "8082b3de-4998-4404-a848-37693e70d8f5",
   "metadata": {},
   "outputs": [
    {
     "data": {
      "text/html": [
       "\n",
       "            <iframe id=\"733e1a8b-dca9-463c-9528-0cb3cf53cd9b\" src=\"/graph/graph.html?dataset=23a6f526416b43cdbecdb1289c74db36&type=arrow&viztoken=719b0c79-1707-42f8-aab4-90e6b274d750&usertag=dfc0ae01-pygraphistry-0.19.4&splashAfter=1627435366&info=true\"\n",
       "                    allowfullscreen=\"true\" webkitallowfullscreen=\"true\" mozallowfullscreen=\"true\"\n",
       "                    oallowfullscreen=\"true\" msallowfullscreen=\"true\"\n",
       "                    style=\"width:100%; height:500px; border: 1px solid #DDD; overflow: hidden\">\n",
       "            </iframe>\n",
       "        \n",
       "            <script>\n",
       "                try {\n",
       "                  $(\"#733e1a8b-dca9-463c-9528-0cb3cf53cd9b\").bind('mousewheel', function(e) { e.preventDefault(); });\n",
       "                } catch (e) { console.error('exn catching scroll', e); }\n",
       "            </script>\n",
       "        "
      ],
      "text/plain": [
       "<IPython.core.display.HTML object>"
      ]
     },
     "execution_count": 46,
     "metadata": {},
     "output_type": "execute_result"
    }
   ],
   "source": [
    "(graphistry\n",
    " .edges(events_df, 'attackerIP', 'victimIP')\n",
    " .encode_edge_color('time_min', palette=['blue', 'red', 'yellow'], as_continuous=True)).plot(memoize=False)"
   ]
  },
  {
   "cell_type": "markdown",
   "id": "72cefa75-ecf7-4375-8bf6-3dd21428bb69",
   "metadata": {},
   "source": [
    "### Cross-linking solves information overload: The \"Information seeking mantra\"\n",
    "\n",
    "Analyst flow:\n",
    "1. Overview: Zoomed out, legend, ...\n",
    "2. Zoom & filter\n",
    "3. Details on demand\n",
    "\n",
    "Hard if \"just\" the graph!\n",
    "\n",
    "Need summary components (histograms...), Selection/Filter system, Table/item inspectors, ...\n"
   ]
  },
  {
   "cell_type": "markdown",
   "id": "8bc27179-15ec-42bd-80f3-43ae1a5fdf68",
   "metadata": {},
   "source": [
    "# 3. Big graphs\n",
    "\n",
    "## Useful to see more data when the answer is not known: Information seeking mantra!\n",
    "\n",
    "## Common: Even if few physical entities -> a lot of metadata, events, ...\n",
    "\n",
    "## Ex: 4K friends => 88K relationships"
   ]
  },
  {
   "cell_type": "code",
   "execution_count": 1,
   "id": "2f76402a-ad71-41b3-9794-4361fd862e0d",
   "metadata": {},
   "outputs": [
    {
     "data": {
      "text/html": [
       "<iframe src=\"https://hub.graphistry.com/graph/graph.html?dataset=Facebook\" width=\"100%\" height=\"600\"></iframe>\n"
      ],
      "text/plain": [
       "<IPython.core.display.HTML object>"
      ]
     },
     "metadata": {},
     "output_type": "display_data"
    }
   ],
   "source": [
    "%%html\n",
    "<iframe src=\"https://hub.graphistry.com/graph/graph.html?dataset=Facebook\" width=\"100%\" height=\"600\"></iframe>"
   ]
  },
  {
   "cell_type": "markdown",
   "id": "82c9f699-ba04-4217-b9a7-686565e0e037",
   "metadata": {},
   "source": [
    "### Top 3 big graph tricks\n",
    "\n",
    "* GPU frontend + backend\n",
    "* Design: FA2 layout, curved edges, ...\n",
    "* Cross-linking with filtering!"
   ]
  },
  {
   "cell_type": "markdown",
   "id": "2a434670-5d30-4c44-950e-8a29ce44690d",
   "metadata": {},
   "source": [
    "# 4. Dashboarding as data scientists\n",
    "\n",
    "* Goal: Empower users with an easy button \n",
    "* Goal: UI -> DB -> data science -> visual insights\n",
    "* Goal: Not specialize in frontend engineering (click handlers, div tags, css ...)\n",
    "\n",
    "### StreamLit (graph-app-kit)\n",
    "\n",
    "1. Simple UI input pipeline\n",
    "2. Turn into a DB query\n",
    "3. Run your normal pydata ML\n",
    "4. Drop in no-code plots\n",
    "\n",
    "### Sample task\n",
    "\n",
    "#### Warmup\n",
    "1. Run graph-app-kit\n",
    "2. Open `views/demo_04_simple/init.py` in an editor\n",
    "  - in a graph-app-kit aws quicklaunch, reach via http://instance_ip/notebook/edit/notebooks/graph-app-kit/private/views/demo_04_simple/__init__.py\n",
    "  - you may need to log in as `admin` / `i-instanceID`\n",
    "3. Open the live version in a browser\n",
    "  - in a graph-app-kit aws quicklaunch, reach via http://instance_ip/private/dash\n",
    "  - pick `INTRO: SIMPLE PIPELINE` from dropdown\n",
    "4. Edit the dashboard title\n",
    "5. Back in the dashboard view, refresh the view (see header button): title should update\n",
    "\n",
    "#### Task\n",
    "\n",
    "Let's add a form control to manipulate the graph: increase the number of multiedges by some scaling factor\n",
    "\n",
    "1. Modify `sidebar_area()` to have a new widget `copies`, and ensure it shows up in the UI\n",
    "2. Thread through the new parameter through the filter pipeline, and ensure the modified UI still works:\n",
    "  - Return of `sidebar_area()`\n",
    "  - Inputs of `run_filters()`\n",
    "  - Inputs of `main_area()`\n",
    "3. Modify method `run_filters()` to generate a graph with multiedges:\n",
    "  - Modify data generators fo rcolumns  `s` and `d` to create `num_edges * copies` edges\n",
    "  \n",
    "\n",
    "  \n",
    "\n",
    "\n"
   ]
  },
  {
   "cell_type": "markdown",
   "id": "1799a71c-2e75-43b0-a40b-c1cbaaf522cf",
   "metadata": {},
   "source": [
    "## Next steps\n",
    "\n",
    "* Data science dashboarding\n",
    "  * https://streamlit.io/  (with graph: https://github.com/graphistry/graph-app-kit)\n",
    "  * https://plotly.com/dash/\n",
    "* Graph widget: https://github.com/graphistry/pygraphistry"
   ]
  },
  {
   "cell_type": "code",
   "execution_count": null,
   "id": "d03f71d2-140e-4795-a559-3a663413215c",
   "metadata": {},
   "outputs": [],
   "source": []
  },
  {
   "cell_type": "code",
   "execution_count": null,
   "id": "467bfb19-db0e-4dcd-8ffe-240e0c373657",
   "metadata": {},
   "outputs": [],
   "source": []
  }
 ],
 "metadata": {
  "kernelspec": {
   "display_name": "Python 3.7 (RAPIDS)",
   "language": "python",
   "name": "rapids"
  },
  "language_info": {
   "codemirror_mode": {
    "name": "ipython",
    "version": 3
   },
   "file_extension": ".py",
   "mimetype": "text/x-python",
   "name": "python",
   "nbconvert_exporter": "python",
   "pygments_lexer": "ipython3",
   "version": "3.7.10"
  }
 },
 "nbformat": 4,
 "nbformat_minor": 5
}
