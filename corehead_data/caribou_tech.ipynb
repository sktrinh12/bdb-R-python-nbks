{
 "cells": [
  {
   "cell_type": "markdown",
   "metadata": {},
   "source": [
    "#### Given a positive integer n, return the nth term of the count-and-say sequence."
   ]
  },
  {
   "cell_type": "code",
   "execution_count": 1,
   "metadata": {},
   "outputs": [
    {
     "name": "stdout",
     "output_type": "stream",
     "text": [
      "11$\n",
      "2\n",
      "1\n",
      "21$\n",
      "1\n",
      "1\n",
      "1211$\n",
      "1\n",
      "1\n",
      "2\n",
      "1\n",
      "111221\n"
     ]
    }
   ],
   "source": [
    "class Solution:\n",
    "    def countAndSay(self, n: int) -> str:\n",
    "        # Base cases\n",
    "        if (n == 1):\n",
    "            return \"1\"\n",
    "        if (n == 2):\n",
    "            return \"11\"\n",
    "\n",
    "        # Find n'th term by generating\n",
    "        # all terms from 3 to n-1.\n",
    "        # Every term is generated using\n",
    "        # previous term\n",
    "\n",
    "        # Initialize previous term\n",
    "        s = \"11\"\n",
    "        for i in range(3, n + 1):\n",
    "\n",
    "            # In below for loop,\n",
    "            # previous character is\n",
    "            # processed in current\n",
    "            # iteration. That is why\n",
    "            # a dummy character is\n",
    "            # added to make sure that\n",
    "            # loop runs one extra iteration.\n",
    "            s += '$'\n",
    "            l = len(s)\n",
    "\n",
    "            cnt = 1 # Initialize count\n",
    "                    # of matching chars\n",
    "            tmp = \"\" # Initialize i'th\n",
    "                     # term in series\n",
    "            print(s)\n",
    "            # Process previous term to\n",
    "            # find the next term\n",
    "            for j in range(1 , l):\n",
    "\n",
    "                # If current character\n",
    "                # does't match\n",
    "                if (s[j] != s[j - 1]):\n",
    "\n",
    "                    # Append count of\n",
    "                    # str[j-1] to temp\n",
    "                    tmp += str(cnt)\n",
    "\n",
    "                    # Append str[j-1]\n",
    "                    tmp += s[j - 1]\n",
    "\n",
    "                    # Reset count\n",
    "                    cnt = 1\n",
    "\n",
    "                # If matches, then increment\n",
    "                # count of matching characters\n",
    "                else:\n",
    "                    cnt += 1\n",
    "                print(cnt)\n",
    "            # Update str\n",
    "            s = tmp\n",
    "\n",
    "        return s;\n",
    "\n",
    "# Driver Code\n",
    "N = 5\n",
    "s = Solution()\n",
    "print(s.countAndSay(N))"
   ]
  },
  {
   "cell_type": "markdown",
   "metadata": {},
   "source": [
    "#### Given an array of strings strs, group the anagrams together. You can return the answer in any order."
   ]
  },
  {
   "cell_type": "code",
   "execution_count": 3,
   "metadata": {},
   "outputs": [
    {
     "name": "stdout",
     "output_type": "stream",
     "text": [
      "[['eat', 'tea'], ['tan']]\n"
     ]
    }
   ],
   "source": [
    "class Solution:\n",
    "    def groupAnagrams(self, strs: list[str]) -> list[list[str]]:\n",
    "        result = {}\n",
    "        for i in strs:\n",
    "            x = \"\".join(sorted(i))\n",
    "            if x in result:\n",
    "                result[x].append(i)\n",
    "            else:\n",
    "                result[x] = [i]\n",
    "        return list(result.values())\n",
    "            \n",
    "s = Solution()\n",
    "test = [\"eat\", \"tea\", \"tan\"]\n",
    "print(s.groupAnagrams(test))"
   ]
  },
  {
   "cell_type": "markdown",
   "metadata": {},
   "source": [
    "#### Given a string s containing just the characters '(', ')', '{', '}', '[' and ']', determine if the input string is valid. "
   ]
  },
  {
   "cell_type": "code",
   "execution_count": 4,
   "metadata": {},
   "outputs": [
    {
     "data": {
      "text/plain": [
       "True"
      ]
     },
     "execution_count": 4,
     "metadata": {},
     "output_type": "execute_result"
    }
   ],
   "source": [
    "import re\n",
    "\n",
    "# use regex to check for parenthesis only\n",
    "# if else: run logic, else print msg\n",
    "# within logic find opening parentheses and find closing, if next string is closing, else return false\n",
    "# would it ever contain nested like ([])? yes -> change the current parentheses and look for closing\n",
    "# length of string would be 10^4 == 10000\n",
    "\n",
    "class Solution:\n",
    "    def isValid(self, s: str) -> bool:\n",
    "        opening_strr = [\"(\", \"[\", \"{\"]\n",
    "        closing_strr = [\")\", \"]\", \"}\"]\n",
    "        str_dct = {')':'(', ']':'[', '}':'{'}\n",
    "        stack = []\n",
    "        \n",
    "        if re.search(\"[A-Z][a-z][0-9]_%^&*$#@!\", s):\n",
    "            return False\n",
    "        else:\n",
    "            if s[0] not in opening_strr:\n",
    "                return False\n",
    "            for strr in s:\n",
    "                if strr in opening_strr: # if it is an opening parentheses add to stack\n",
    "                    stack.append(strr)\n",
    "                elif strr in closing_strr: # if closing then check if stack is has the opening from before; else return False since it doesnt have valid opening and closing\n",
    "                    if len(stack) == 0:\n",
    "                        return False\n",
    "                    if stack[-1] == str_dct[strr]: # if the last str in the stack is equal to opening parentheses then remove it from stack in order to add a new opening for the following string\n",
    "                        stack.pop()\n",
    "                    else: # if the last string in stack is not a opening paren then return False\n",
    "                        return False\n",
    "            return len(stack) == 0\n",
    "                      \n",
    "                \n",
    "s = Solution()\n",
    "s.isValid(\"{{}}\")"
   ]
  },
  {
   "cell_type": "markdown",
   "metadata": {},
   "source": [
    "#### Given an array of integers nums and an integer target, return indices of the two numbers such that they add up to target."
   ]
  },
  {
   "cell_type": "code",
   "execution_count": 6,
   "metadata": {},
   "outputs": [
    {
     "data": {
      "text/plain": [
       "[0, 1]"
      ]
     },
     "execution_count": 6,
     "metadata": {},
     "output_type": "execute_result"
    }
   ],
   "source": [
    "class Solution:\n",
    "    def twoSum(self, nums: list[int], target: int) -> list[int]:\n",
    "        for a,b in enumerate(nums):\n",
    "            for i in range(1+a, len(nums)):\n",
    "                if b + nums[i] == target:\n",
    "                    return [a, i]\n",
    "                #print(f\"the sum of {b} + {nums[i]} = {b+ nums[i]}\")\n",
    "                \n",
    "s = Solution()\n",
    "s.twoSum([2,7,11,15], 9)"
   ]
  },
  {
   "cell_type": "markdown",
   "metadata": {},
   "source": [
    "#### Write a function that takes two strings as arguments, (1) and (2), and returns a string that is the same as (1) but with any characters present in (2) removed."
   ]
  },
  {
   "cell_type": "code",
   "execution_count": 7,
   "metadata": {},
   "outputs": [
    {
     "name": "stdout",
     "output_type": "stream",
     "text": [
      "geeforgee\n"
     ]
    }
   ],
   "source": [
    "# Python program to remove characters\n",
    "# from first string which\n",
    "# are present in the second string\n",
    "NO_OF_CHARS = 256\n",
    "\n",
    "# Utility function to convert\n",
    "# from string to list\n",
    "\n",
    "\n",
    "def toList(string):\n",
    "\ttemp = []\n",
    "\tfor x in string:\n",
    "\t\ttemp.append(x)\n",
    "\treturn temp\n",
    "\n",
    "# Utility function to\n",
    "# convert from list to string\n",
    "\n",
    "\n",
    "def toString(List):\n",
    "\treturn ''.join(List)\n",
    "\n",
    "# Returns an array of size\n",
    "# 256 containing count of characters\n",
    "# in the passed char array\n",
    "\n",
    "\n",
    "def getCharCountArray(string):\n",
    "\tcount = [0] * NO_OF_CHARS\n",
    "\tfor i in string:\n",
    "\t\tcount[ord(i)] += 1\n",
    "\treturn count\n",
    "\n",
    "# removeDirtyChars takes two\n",
    "# string as arguments: First\n",
    "# string (str) is the one\n",
    "# from where function removes dirty\n",
    "# characters. Second string\n",
    "# is the string which contain all\n",
    "# dirty characters which need\n",
    "# to be removed from first string\n",
    "\n",
    "\n",
    "def removeDirtyChars(string, mask_string):\n",
    "\tcount = getCharCountArray(mask_string)\n",
    "\tip_ind = 0\n",
    "\tres_ind = 0\n",
    "\ttemp = ''\n",
    "\tstr_list = toList(string)\n",
    "\n",
    "\twhile ip_ind != len(str_list):\n",
    "\t\ttemp = str_list[ip_ind]\n",
    "\t\tif count[ord(temp)] == 0:\n",
    "\t\t\tstr_list[res_ind] = str_list[ip_ind]\n",
    "\t\t\tres_ind += 1\n",
    "\t\tip_ind += 1\n",
    "\n",
    "\t# After above step string is ngring.\n",
    "\t# Removing extra \"iittg\" after string\n",
    "\treturn toString(str_list[0:res_ind])\n",
    "\n",
    "\n",
    "# Driver code\n",
    "mask_string = \"mask\"\n",
    "string = \"geeksforgeeks\"\n",
    "print(removeDirtyChars(string, mask_string))"
   ]
  },
  {
   "cell_type": "code",
   "execution_count": 12,
   "metadata": {},
   "outputs": [],
   "source": [
    "r = getCharCountArray('test')"
   ]
  },
  {
   "cell_type": "code",
   "execution_count": 15,
   "metadata": {},
   "outputs": [
    {
     "name": "stdout",
     "output_type": "stream",
     "text": [
      "116\n",
      "2\n",
      "101\n",
      "1\n",
      "115\n",
      "1\n",
      "116\n",
      "2\n"
     ]
    }
   ],
   "source": [
    "for l in 'test':\n",
    "    o = ord(l)\n",
    "    print(o)\n",
    "    print(r[o])"
   ]
  },
  {
   "cell_type": "code",
   "execution_count": 24,
   "metadata": {},
   "outputs": [
    {
     "data": {
      "text/plain": [
       "'bcdef'"
      ]
     },
     "execution_count": 24,
     "metadata": {},
     "output_type": "execute_result"
    }
   ],
   "source": [
    "def rm_str_nocase(strr, m_strr): \n",
    "    #main_strr = []\n",
    "    #strr_ls = [s for s in strr]\n",
    "    tmp_strr = strr\n",
    "    for s in m_strr:\n",
    "        s = s.lower()\n",
    "        if s in tmp_strr:\n",
    "            tmp_strr = tmp_strr.lower().replace(s,'')\n",
    "    return tmp_strr\n",
    " \n",
    "# Call it like this \n",
    "rm_str_nocase('abacdef','A') "
   ]
  },
  {
   "cell_type": "code",
   "execution_count": 25,
   "metadata": {},
   "outputs": [
    {
     "data": {
      "text/plain": [
       "'geeforgee'"
      ]
     },
     "execution_count": 25,
     "metadata": {},
     "output_type": "execute_result"
    }
   ],
   "source": [
    "rm_str_nocase(string, mask_string)"
   ]
  },
  {
   "cell_type": "markdown",
   "metadata": {},
   "source": [
    "#### Write a function that takes a string (1) as the only argument and returns the first character in (1) that is not repeated elsewhere in (1). "
   ]
  },
  {
   "cell_type": "code",
   "execution_count": 54,
   "metadata": {},
   "outputs": [],
   "source": [
    "def first_nonrepeat_char(string):\n",
    "    str_dct = {s:0 for s in string}\n",
    "    for s in string:\n",
    "        if s in str_dct:\n",
    "            str_dct[s] += 1\n",
    "    sort_dct = sorted(str_dct.items(), key=lambda x: x[1])\n",
    "    first_key = sort_dct[0][0]\n",
    "    print(sort_dct)\n",
    "    return first_key"
   ]
  },
  {
   "cell_type": "code",
   "execution_count": 52,
   "metadata": {},
   "outputs": [
    {
     "name": "stdout",
     "output_type": "stream",
     "text": [
      "[('a', 1), ('z', 2)]\n"
     ]
    },
    {
     "data": {
      "text/plain": [
       "'a'"
      ]
     },
     "execution_count": 52,
     "metadata": {},
     "output_type": "execute_result"
    }
   ],
   "source": [
    "first_nonrepeat_char(\"azz\")"
   ]
  },
  {
   "cell_type": "code",
   "execution_count": 57,
   "metadata": {},
   "outputs": [
    {
     "name": "stdout",
     "output_type": "stream",
     "text": [
      "[('s', 1), ('8', 1), ('c', 1), ('j', 1), ('v', 1), ('p', 1), ('o', 1), ('a', 2), ('d', 2), ('k', 4)]\n"
     ]
    },
    {
     "data": {
      "text/plain": [
       "'s'"
      ]
     },
     "execution_count": 57,
     "metadata": {},
     "output_type": "execute_result"
    }
   ],
   "source": [
    "first_nonrepeat_char(\"aas8ckjvpokdkdk\")"
   ]
  },
  {
   "cell_type": "markdown",
   "metadata": {},
   "source": [
    "#### Write a function that takes a string (1) as the only argument and returns the length of the longest substring in (1) that contains no repeating characters."
   ]
  },
  {
   "cell_type": "code",
   "execution_count": 86,
   "metadata": {},
   "outputs": [],
   "source": [
    "def lengthOfLongestSubstring(s):\n",
    "    dicts = {}\n",
    "    maxlength = start = 0\n",
    "    for i,value in enumerate(s):\n",
    "        if value in dicts:\n",
    "            sums = dicts[value] + 1\n",
    "            if sums > start:\n",
    "                start = sums\n",
    "            print(i, value, sums, start)\n",
    "        num = i - start + 1\n",
    "        if num > maxlength:\n",
    "            maxlength = num\n",
    "        dicts[value] = i\n",
    "    #print(dicts)\n",
    "    return maxlength"
   ]
  },
  {
   "cell_type": "code",
   "execution_count": 87,
   "metadata": {},
   "outputs": [
    {
     "name": "stdout",
     "output_type": "stream",
     "text": [
      "6 a 5 5\n",
      "7 i 2 5\n"
     ]
    },
    {
     "data": {
      "text/plain": [
       "6"
      ]
     },
     "execution_count": 87,
     "metadata": {},
     "output_type": "execute_result"
    }
   ],
   "source": [
    "lengthOfLongestSubstring(\"timeagain\")"
   ]
  },
  {
   "cell_type": "code",
   "execution_count": 78,
   "metadata": {},
   "outputs": [
    {
     "name": "stdout",
     "output_type": "stream",
     "text": [
      "{'g': 8, 'e': 10, 'k': 11, 's': 12, 'f': 5, 'o': 6, 'r': 7}\n",
      "7\n"
     ]
    }
   ],
   "source": [
    "# program to find the length\n",
    "# of the longest substring\n",
    "# without repeating characters\n",
    "\n",
    "def longestUniqueSubsttr(string):\n",
    "    # last index of every character\n",
    "    last_idx = {}\n",
    "    max_len = 0\n",
    "    # starting index of current\n",
    "    # window to calculate max_len\n",
    "    start_idx = 0\n",
    "    for i in range(len(string)):\n",
    "        # Find the last index of str[i]\n",
    "        # Update start_idx (starting index of current window)\n",
    "        # as maximum of current value of start_idx and last\n",
    "        # index plus 1\n",
    "        if string[i] in last_idx:\n",
    "            start_idx = max(start_idx, last_idx[string[i]] + 1)\n",
    "        # Update result if we get a larger window\n",
    "        max_len = max(max_len, i-start_idx + 1)\n",
    "        # Update last index of current char.\n",
    "        last_idx[string[i]] = i\n",
    "    print(last_idx)\n",
    "    return max_len\n",
    "\n",
    "\"\"\"\n",
    "i = 0 -> 'g', max_len = 1; last_idx['g'] = 0\n",
    "i = 1 -> 'e', max_len = 2; last_idx['e'] = 1\n",
    "i = 2 -> 'e', in last_idx -> start_idx = max(0, last_idx['e'] + 1) = max(0, 1 + 1) -> start_idx = 2; max_len = max(2, 2-2+1) -> 2, last_idx['e'] = 2\n",
    "i = 3 -> 'k', max_len = max(2, 3-2+1) -> max(2, 2) = 2; last_idx['k'] = 3\n",
    "i = 4 -> 's', max_len = max(2, 4-2+1) -> max(2, 3) = 3; last_idx['s'] = 4\n",
    "i = 5 -> 'f', max_len = max(3, 5-2+1) -> max(3, 4) = 4; last_idx['f'] = 5\n",
    "i = 6 -> 'o', max_len = max(4, 6-2+1) -> max(4, 5) = 5; last_idx['o'] = 6\n",
    "i = 7 -> 'r', max_len = max(5, 7-2+1) -> max(5, 6) = 6; last_idx['r'] = 7\n",
    "i = 8 -> 'g', in last_idx -> start_idx = max(2, last_idx['g'] + 1) = max(2, 0 + 1) -> start_idx = 2; max_len = max(6, 8-2+1) = 7, last_idx['g'] = 8\n",
    "i = 9 -> 'e', in last_idx -> start_idx = max(2, last_idx['e'] + 1) = max(2, 2 + 1) -> start_idx = 3; max_len = max(7, 9-3+1) = 7, last_idx['e'] = 9\n",
    "i = 10 -> 'e', in last_idx -> start_idx = max(3, last_idx['e'] + 1) = max(3, 9 + 1) -> start_idx = 10; max_len = max(7, 10-10+1) = 7, last_idx['e'] = 10\n",
    "i = 11 -> 'k', in last_idx -> start_idx = max(10, last_idx['k'] + 1) = max(10, 3 + 1) -> start_idx = 10; max_len = max(7, 11-10+1) = 2, last_idx['k'] = 11\n",
    "i = 11 -> 's', in last_idx -> start_idx = max(10, last_idx['s'] + 1) = max(10, 4 + 1) -> start_idx = 10; max_len = max(7, 12-10+1) = 3, last_idx['s'] = 12\n",
    "\"\"\"\n",
    "# Driver program to test the above function\n",
    "# The length of the longest non-repeating character\n",
    "string = \"geeksforgeeks\"\n",
    "length = longestUniqueSubsttr(string)\n",
    "print(str(length))"
   ]
  }
 ],
 "metadata": {
  "kernelspec": {
   "display_name": "Python 3",
   "language": "python",
   "name": "python3"
  },
  "language_info": {
   "codemirror_mode": {
    "name": "ipython",
    "version": 3
   },
   "file_extension": ".py",
   "mimetype": "text/x-python",
   "name": "python",
   "nbconvert_exporter": "python",
   "pygments_lexer": "ipython3",
   "version": "3.8.6"
  }
 },
 "nbformat": 4,
 "nbformat_minor": 5
}
