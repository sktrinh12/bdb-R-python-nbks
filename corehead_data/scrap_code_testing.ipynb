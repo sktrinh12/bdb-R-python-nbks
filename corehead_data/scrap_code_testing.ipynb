{
 "cells": [
  {
   "cell_type": "code",
   "execution_count": 1,
   "metadata": {},
   "outputs": [
    {
     "name": "stderr",
     "output_type": "stream",
     "text": [
      "── \u001b[1mAttaching packages\u001b[22m ─────────────────────────────────────── tidyverse 1.3.0 ──\n",
      "\n",
      "\u001b[32m✔\u001b[39m \u001b[34mggplot2\u001b[39m 3.3.3     \u001b[32m✔\u001b[39m \u001b[34mpurrr  \u001b[39m 0.3.4\n",
      "\u001b[32m✔\u001b[39m \u001b[34mtibble \u001b[39m 3.0.4     \u001b[32m✔\u001b[39m \u001b[34mdplyr  \u001b[39m 1.0.2\n",
      "\u001b[32m✔\u001b[39m \u001b[34mtidyr  \u001b[39m 1.1.2     \u001b[32m✔\u001b[39m \u001b[34mstringr\u001b[39m 1.4.0\n",
      "\u001b[32m✔\u001b[39m \u001b[34mreadr  \u001b[39m 1.4.0     \u001b[32m✔\u001b[39m \u001b[34mforcats\u001b[39m 0.5.0\n",
      "\n",
      "── \u001b[1mConflicts\u001b[22m ────────────────────────────────────────── tidyverse_conflicts() ──\n",
      "\u001b[31m✖\u001b[39m \u001b[34mdplyr\u001b[39m::\u001b[32mfilter()\u001b[39m masks \u001b[34mstats\u001b[39m::filter()\n",
      "\u001b[31m✖\u001b[39m \u001b[34mdplyr\u001b[39m::\u001b[32mlag()\u001b[39m    masks \u001b[34mstats\u001b[39m::lag()\n",
      "\n"
     ]
    }
   ],
   "source": [
    "library(tidyverse)"
   ]
  },
  {
   "cell_type": "code",
   "execution_count": 6,
   "metadata": {},
   "outputs": [
    {
     "data": {
      "text/html": [
       "<table>\n",
       "<caption>A tibble: 8 × 3</caption>\n",
       "<thead>\n",
       "\t<tr><th scope=col>row</th><th scope=col>column1</th><th scope=col>column2</th></tr>\n",
       "\t<tr><th scope=col>&lt;chr&gt;</th><th scope=col>&lt;int&gt;</th><th scope=col>&lt;int&gt;</th></tr>\n",
       "</thead>\n",
       "<tbody>\n",
       "\t<tr><td>A </td><td> 8</td><td>24</td></tr>\n",
       "\t<tr><td>B </td><td> 9</td><td>25</td></tr>\n",
       "\t<tr><td>C </td><td>10</td><td>26</td></tr>\n",
       "\t<tr><td>D </td><td>11</td><td>27</td></tr>\n",
       "\t<tr><td>E </td><td>12</td><td>28</td></tr>\n",
       "\t<tr><td>F </td><td>13</td><td>29</td></tr>\n",
       "\t<tr><td>NA</td><td>14</td><td>30</td></tr>\n",
       "\t<tr><td>NA</td><td>15</td><td>31</td></tr>\n",
       "</tbody>\n",
       "</table>\n"
      ],
      "text/latex": [
       "A tibble: 8 × 3\n",
       "\\begin{tabular}{lll}\n",
       " row & column1 & column2\\\\\n",
       " <chr> & <int> & <int>\\\\\n",
       "\\hline\n",
       "\t A  &  8 & 24\\\\\n",
       "\t B  &  9 & 25\\\\\n",
       "\t C  & 10 & 26\\\\\n",
       "\t D  & 11 & 27\\\\\n",
       "\t E  & 12 & 28\\\\\n",
       "\t F  & 13 & 29\\\\\n",
       "\t NA & 14 & 30\\\\\n",
       "\t NA & 15 & 31\\\\\n",
       "\\end{tabular}\n"
      ],
      "text/markdown": [
       "\n",
       "A tibble: 8 × 3\n",
       "\n",
       "| row &lt;chr&gt; | column1 &lt;int&gt; | column2 &lt;int&gt; |\n",
       "|---|---|---|\n",
       "| A  |  8 | 24 |\n",
       "| B  |  9 | 25 |\n",
       "| C  | 10 | 26 |\n",
       "| D  | 11 | 27 |\n",
       "| E  | 12 | 28 |\n",
       "| F  | 13 | 29 |\n",
       "| NA | 14 | 30 |\n",
       "| NA | 15 | 31 |\n",
       "\n"
      ],
      "text/plain": [
       "  row column1 column2\n",
       "1 A    8      24     \n",
       "2 B    9      25     \n",
       "3 C   10      26     \n",
       "4 D   11      27     \n",
       "5 E   12      28     \n",
       "6 F   13      29     \n",
       "7 NA  14      30     \n",
       "8 NA  15      31     "
      ]
     },
     "metadata": {},
     "output_type": "display_data"
    }
   ],
   "source": [
    "df = tibble(row=c(LETTERS[seq(6)],rep(\"NA\", 2)), column1 = seq(8,15), column2 = seq(24,31))\n",
    "df"
   ]
  },
  {
   "cell_type": "code",
   "execution_count": 7,
   "metadata": {},
   "outputs": [
    {
     "data": {
      "text/html": [
       "<table>\n",
       "<caption>A tibble: 6 × 3</caption>\n",
       "<thead>\n",
       "\t<tr><th scope=col>row</th><th scope=col>column1</th><th scope=col>column2</th></tr>\n",
       "\t<tr><th scope=col>&lt;chr&gt;</th><th scope=col>&lt;int&gt;</th><th scope=col>&lt;int&gt;</th></tr>\n",
       "</thead>\n",
       "<tbody>\n",
       "\t<tr><td>A</td><td> 8</td><td>24</td></tr>\n",
       "\t<tr><td>B</td><td> 9</td><td>25</td></tr>\n",
       "\t<tr><td>C</td><td>10</td><td>26</td></tr>\n",
       "\t<tr><td>D</td><td>11</td><td>27</td></tr>\n",
       "\t<tr><td>E</td><td>12</td><td>28</td></tr>\n",
       "\t<tr><td>F</td><td>13</td><td>29</td></tr>\n",
       "</tbody>\n",
       "</table>\n"
      ],
      "text/latex": [
       "A tibble: 6 × 3\n",
       "\\begin{tabular}{lll}\n",
       " row & column1 & column2\\\\\n",
       " <chr> & <int> & <int>\\\\\n",
       "\\hline\n",
       "\t A &  8 & 24\\\\\n",
       "\t B &  9 & 25\\\\\n",
       "\t C & 10 & 26\\\\\n",
       "\t D & 11 & 27\\\\\n",
       "\t E & 12 & 28\\\\\n",
       "\t F & 13 & 29\\\\\n",
       "\\end{tabular}\n"
      ],
      "text/markdown": [
       "\n",
       "A tibble: 6 × 3\n",
       "\n",
       "| row &lt;chr&gt; | column1 &lt;int&gt; | column2 &lt;int&gt; |\n",
       "|---|---|---|\n",
       "| A |  8 | 24 |\n",
       "| B |  9 | 25 |\n",
       "| C | 10 | 26 |\n",
       "| D | 11 | 27 |\n",
       "| E | 12 | 28 |\n",
       "| F | 13 | 29 |\n",
       "\n"
      ],
      "text/plain": [
       "  row column1 column2\n",
       "1 A    8      24     \n",
       "2 B    9      25     \n",
       "3 C   10      26     \n",
       "4 D   11      27     \n",
       "5 E   12      28     \n",
       "6 F   13      29     "
      ]
     },
     "metadata": {},
     "output_type": "display_data"
    }
   ],
   "source": [
    "df %>% filter(row!=\"NA\")"
   ]
  },
  {
   "cell_type": "code",
   "execution_count": 9,
   "metadata": {},
   "outputs": [
    {
     "data": {
      "text/html": [
       "TRUE"
      ],
      "text/latex": [
       "TRUE"
      ],
      "text/markdown": [
       "TRUE"
      ],
      "text/plain": [
       "[1] TRUE"
      ]
     },
     "metadata": {},
     "output_type": "display_data"
    }
   ],
   "source": [
    "\"NA\" %in% df$row"
   ]
  },
  {
   "cell_type": "code",
   "execution_count": 26,
   "metadata": {},
   "outputs": [
    {
     "data": {
      "text/html": [
       "2"
      ],
      "text/latex": [
       "2"
      ],
      "text/markdown": [
       "2"
      ],
      "text/plain": [
       "[1] 2"
      ]
     },
     "metadata": {},
     "output_type": "display_data"
    }
   ],
   "source": [
    "df %>% group_by(row) %>% count() %>% filter(row == \"NA\") %>% pull() %>% as.numeric()"
   ]
  },
  {
   "cell_type": "code",
   "execution_count": 45,
   "metadata": {},
   "outputs": [
    {
     "data": {
      "text/html": [
       "<table>\n",
       "<caption>A data.frame: 6 × 2</caption>\n",
       "<thead>\n",
       "\t<tr><th scope=col>ref_clone</th><th scope=col>ref_value</th></tr>\n",
       "\t<tr><th scope=col>&lt;chr&gt;</th><th scope=col>&lt;chr&gt;</th></tr>\n",
       "</thead>\n",
       "<tbody>\n",
       "\t<tr><td>ref_clone_A1</td><td>27-35</td></tr>\n",
       "\t<tr><td>ref_clone_A2</td><td>10.1 </td></tr>\n",
       "\t<tr><td>ref_clone_B1</td><td>27-35</td></tr>\n",
       "\t<tr><td>ref_clone_B2</td><td>10.1 </td></tr>\n",
       "\t<tr><td>ref_clone_E1</td><td>NA   </td></tr>\n",
       "\t<tr><td>ref_clone_F1</td><td>NA   </td></tr>\n",
       "</tbody>\n",
       "</table>\n"
      ],
      "text/latex": [
       "A data.frame: 6 × 2\n",
       "\\begin{tabular}{ll}\n",
       " ref\\_clone & ref\\_value\\\\\n",
       " <chr> & <chr>\\\\\n",
       "\\hline\n",
       "\t ref\\_clone\\_A1 & 27-35\\\\\n",
       "\t ref\\_clone\\_A2 & 10.1 \\\\\n",
       "\t ref\\_clone\\_B1 & 27-35\\\\\n",
       "\t ref\\_clone\\_B2 & 10.1 \\\\\n",
       "\t ref\\_clone\\_E1 & NA   \\\\\n",
       "\t ref\\_clone\\_F1 & NA   \\\\\n",
       "\\end{tabular}\n"
      ],
      "text/markdown": [
       "\n",
       "A data.frame: 6 × 2\n",
       "\n",
       "| ref_clone &lt;chr&gt; | ref_value &lt;chr&gt; |\n",
       "|---|---|\n",
       "| ref_clone_A1 | 27-35 |\n",
       "| ref_clone_A2 | 10.1  |\n",
       "| ref_clone_B1 | 27-35 |\n",
       "| ref_clone_B2 | 10.1  |\n",
       "| ref_clone_E1 | NA    |\n",
       "| ref_clone_F1 | NA    |\n",
       "\n"
      ],
      "text/plain": [
       "  ref_clone    ref_value\n",
       "1 ref_clone_A1 27-35    \n",
       "2 ref_clone_A2 10.1     \n",
       "3 ref_clone_B1 27-35    \n",
       "4 ref_clone_B2 10.1     \n",
       "5 ref_clone_E1 NA       \n",
       "6 ref_clone_F1 NA       "
      ]
     },
     "metadata": {},
     "output_type": "display_data"
    }
   ],
   "source": [
    "rdf = data.frame(ref_clone=paste0(\"ref_clone_\", rep(LETTERS[seq(2)],each =2), rep(seq(2),2)), \n",
    "                ref_value=rep(c(\"27-35\", \"10.1\"), 2))\n",
    "rdf <- rbind(rdf, c(\"ref_clone_E1\",\"NA\"))\n",
    "rdf <- rbind(rdf, c(\"ref_clone_F1\",\"NA\"))\n",
    "rdf"
   ]
  },
  {
   "cell_type": "code",
   "execution_count": 46,
   "metadata": {},
   "outputs": [
    {
     "data": {
      "text/html": [
       "<style>\n",
       ".list-inline {list-style: none; margin:0; padding: 0}\n",
       ".list-inline>li {display: inline-block}\n",
       ".list-inline>li:not(:last-child)::after {content: \"\\00b7\"; padding: 0 .5ex}\n",
       "</style>\n",
       "<ol class=list-inline><li>'27-35'</li><li>'27-35'</li><li>'NA'</li><li>'NA'</li></ol>\n"
      ],
      "text/latex": [
       "\\begin{enumerate*}\n",
       "\\item '27-35'\n",
       "\\item '27-35'\n",
       "\\item 'NA'\n",
       "\\item 'NA'\n",
       "\\end{enumerate*}\n"
      ],
      "text/markdown": [
       "1. '27-35'\n",
       "2. '27-35'\n",
       "3. 'NA'\n",
       "4. 'NA'\n",
       "\n",
       "\n"
      ],
      "text/plain": [
       "[1] \"27-35\" \"27-35\" \"NA\"    \"NA\"   "
      ]
     },
     "metadata": {},
     "output_type": "display_data"
    }
   ],
   "source": [
    "rdf[grepl(\"1\", rdf$ref_clone), ]$ref_value"
   ]
  },
  {
   "cell_type": "code",
   "execution_count": 50,
   "metadata": {},
   "outputs": [
    {
     "data": {
      "text/html": [
       "<style>\n",
       ".list-inline {list-style: none; margin:0; padding: 0}\n",
       ".list-inline>li {display: inline-block}\n",
       ".list-inline>li:not(:last-child)::after {content: \"\\00b7\"; padding: 0 .5ex}\n",
       "</style>\n",
       "<ol class=list-inline><li>14</li><li>15</li><li>16</li><li>17</li><li>18</li><li>19</li><li>20</li><li>38</li><li>39</li><li>40</li><li>41</li><li>42</li><li>43</li><li>44</li></ol>\n"
      ],
      "text/latex": [
       "\\begin{enumerate*}\n",
       "\\item 14\n",
       "\\item 15\n",
       "\\item 16\n",
       "\\item 17\n",
       "\\item 18\n",
       "\\item 19\n",
       "\\item 20\n",
       "\\item 38\n",
       "\\item 39\n",
       "\\item 40\n",
       "\\item 41\n",
       "\\item 42\n",
       "\\item 43\n",
       "\\item 44\n",
       "\\end{enumerate*}\n"
      ],
      "text/markdown": [
       "1. 14\n",
       "2. 15\n",
       "3. 16\n",
       "4. 17\n",
       "5. 18\n",
       "6. 19\n",
       "7. 20\n",
       "8. 38\n",
       "9. 39\n",
       "10. 40\n",
       "11. 41\n",
       "12. 42\n",
       "13. 43\n",
       "14. 44\n",
       "\n",
       "\n"
      ],
      "text/plain": [
       " [1] 14 15 16 17 18 19 20 38 39 40 41 42 43 44"
      ]
     },
     "metadata": {},
     "output_type": "display_data"
    }
   ],
   "source": [
    "c(seq(14,20), sapply(seq(14,20), function(x) {x+24}))"
   ]
  }
 ],
 "metadata": {
  "kernelspec": {
   "display_name": "R",
   "language": "R",
   "name": "ir"
  },
  "language_info": {
   "codemirror_mode": "r",
   "file_extension": ".r",
   "mimetype": "text/x-r-source",
   "name": "R",
   "pygments_lexer": "r",
   "version": "4.0.3"
  }
 },
 "nbformat": 4,
 "nbformat_minor": 4
}
