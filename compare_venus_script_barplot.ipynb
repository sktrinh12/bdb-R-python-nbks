{
 "cells": [
  {
   "cell_type": "code",
   "execution_count": 1,
   "id": "negative-banks",
   "metadata": {},
   "outputs": [],
   "source": [
    "library(ggplot2)"
   ]
  },
  {
   "cell_type": "code",
   "execution_count": 21,
   "id": "noticed-hollow",
   "metadata": {},
   "outputs": [
    {
     "data": {
      "text/html": [
       "<table class=\"dataframe\">\n",
       "<caption>A data.frame: 6 × 3</caption>\n",
       "<thead>\n",
       "\t<tr><th></th><th scope=col>script</th><th scope=col>action</th><th scope=col>time</th></tr>\n",
       "\t<tr><th></th><th scope=col>&lt;chr&gt;</th><th scope=col>&lt;chr&gt;</th><th scope=col>&lt;dbl&gt;</th></tr>\n",
       "</thead>\n",
       "<tbody>\n",
       "\t<tr><th scope=row>1</th><td>old</td><td>blood disp </td><td> 14.69</td></tr>\n",
       "\t<tr><th scope=row>2</th><td>old</td><td>buffer disp</td><td>282.60</td></tr>\n",
       "\t<tr><th scope=row>3</th><td>old</td><td>Ab disp    </td><td> 95.53</td></tr>\n",
       "\t<tr><th scope=row>4</th><td>old</td><td>serial dil </td><td>139.15</td></tr>\n",
       "\t<tr><th scope=row>5</th><td>old</td><td>xfer tubes </td><td> 40.44</td></tr>\n",
       "\t<tr><th scope=row>6</th><td>old</td><td>xfer plate </td><td>164.41</td></tr>\n",
       "</tbody>\n",
       "</table>\n"
      ],
      "text/latex": [
       "A data.frame: 6 × 3\n",
       "\\begin{tabular}{r|lll}\n",
       "  & script & action & time\\\\\n",
       "  & <chr> & <chr> & <dbl>\\\\\n",
       "\\hline\n",
       "\t1 & old & blood disp  &  14.69\\\\\n",
       "\t2 & old & buffer disp & 282.60\\\\\n",
       "\t3 & old & Ab disp     &  95.53\\\\\n",
       "\t4 & old & serial dil  & 139.15\\\\\n",
       "\t5 & old & xfer tubes  &  40.44\\\\\n",
       "\t6 & old & xfer plate  & 164.41\\\\\n",
       "\\end{tabular}\n"
      ],
      "text/markdown": [
       "\n",
       "A data.frame: 6 × 3\n",
       "\n",
       "| <!--/--> | script &lt;chr&gt; | action &lt;chr&gt; | time &lt;dbl&gt; |\n",
       "|---|---|---|---|\n",
       "| 1 | old | blood disp  |  14.69 |\n",
       "| 2 | old | buffer disp | 282.60 |\n",
       "| 3 | old | Ab disp     |  95.53 |\n",
       "| 4 | old | serial dil  | 139.15 |\n",
       "| 5 | old | xfer tubes  |  40.44 |\n",
       "| 6 | old | xfer plate  | 164.41 |\n",
       "\n"
      ],
      "text/plain": [
       "  script action      time  \n",
       "1 old    blood disp   14.69\n",
       "2 old    buffer disp 282.60\n",
       "3 old    Ab disp      95.53\n",
       "4 old    serial dil  139.15\n",
       "5 old    xfer tubes   40.44\n",
       "6 old    xfer plate  164.41"
      ]
     },
     "metadata": {},
     "output_type": "display_data"
    }
   ],
   "source": [
    "df2 <- data.frame(script=rep(c(\"old\", \"new\"), each=6),\n",
    "                action=rep(c(\"blood disp\", \"buffer disp\", \"Ab disp\", \"serial dil\", \"xfer tubes\", \"xfer plate\"),2),\n",
    "                time=round(runif(12, min=10, max=300),2))\n",
    "head(df2)"
   ]
  },
  {
   "cell_type": "code",
   "execution_count": 22,
   "id": "tired-spokesman",
   "metadata": {},
   "outputs": [
    {
     "data": {
      "text/html": [
       "<table class=\"dataframe\">\n",
       "<caption>A data.frame: 12 × 3</caption>\n",
       "<thead>\n",
       "\t<tr><th scope=col>script</th><th scope=col>action</th><th scope=col>time</th></tr>\n",
       "\t<tr><th scope=col>&lt;chr&gt;</th><th scope=col>&lt;chr&gt;</th><th scope=col>&lt;dbl&gt;</th></tr>\n",
       "</thead>\n",
       "<tbody>\n",
       "\t<tr><td>old</td><td>blood disp </td><td> 14.69</td></tr>\n",
       "\t<tr><td>old</td><td>buffer disp</td><td>282.60</td></tr>\n",
       "\t<tr><td>old</td><td>Ab disp    </td><td> 95.53</td></tr>\n",
       "\t<tr><td>old</td><td>serial dil </td><td>139.15</td></tr>\n",
       "\t<tr><td>old</td><td>xfer tubes </td><td> 40.44</td></tr>\n",
       "\t<tr><td>old</td><td>xfer plate </td><td>164.41</td></tr>\n",
       "\t<tr><td>new</td><td>blood disp </td><td> 94.24</td></tr>\n",
       "\t<tr><td>new</td><td>buffer disp</td><td>255.93</td></tr>\n",
       "\t<tr><td>new</td><td>Ab disp    </td><td> 69.34</td></tr>\n",
       "\t<tr><td>new</td><td>serial dil </td><td>208.57</td></tr>\n",
       "\t<tr><td>new</td><td>xfer tubes </td><td>151.01</td></tr>\n",
       "\t<tr><td>new</td><td>xfer plate </td><td>280.21</td></tr>\n",
       "</tbody>\n",
       "</table>\n"
      ],
      "text/latex": [
       "A data.frame: 12 × 3\n",
       "\\begin{tabular}{lll}\n",
       " script & action & time\\\\\n",
       " <chr> & <chr> & <dbl>\\\\\n",
       "\\hline\n",
       "\t old & blood disp  &  14.69\\\\\n",
       "\t old & buffer disp & 282.60\\\\\n",
       "\t old & Ab disp     &  95.53\\\\\n",
       "\t old & serial dil  & 139.15\\\\\n",
       "\t old & xfer tubes  &  40.44\\\\\n",
       "\t old & xfer plate  & 164.41\\\\\n",
       "\t new & blood disp  &  94.24\\\\\n",
       "\t new & buffer disp & 255.93\\\\\n",
       "\t new & Ab disp     &  69.34\\\\\n",
       "\t new & serial dil  & 208.57\\\\\n",
       "\t new & xfer tubes  & 151.01\\\\\n",
       "\t new & xfer plate  & 280.21\\\\\n",
       "\\end{tabular}\n"
      ],
      "text/markdown": [
       "\n",
       "A data.frame: 12 × 3\n",
       "\n",
       "| script &lt;chr&gt; | action &lt;chr&gt; | time &lt;dbl&gt; |\n",
       "|---|---|---|\n",
       "| old | blood disp  |  14.69 |\n",
       "| old | buffer disp | 282.60 |\n",
       "| old | Ab disp     |  95.53 |\n",
       "| old | serial dil  | 139.15 |\n",
       "| old | xfer tubes  |  40.44 |\n",
       "| old | xfer plate  | 164.41 |\n",
       "| new | blood disp  |  94.24 |\n",
       "| new | buffer disp | 255.93 |\n",
       "| new | Ab disp     |  69.34 |\n",
       "| new | serial dil  | 208.57 |\n",
       "| new | xfer tubes  | 151.01 |\n",
       "| new | xfer plate  | 280.21 |\n",
       "\n"
      ],
      "text/plain": [
       "   script action      time  \n",
       "1  old    blood disp   14.69\n",
       "2  old    buffer disp 282.60\n",
       "3  old    Ab disp      95.53\n",
       "4  old    serial dil  139.15\n",
       "5  old    xfer tubes   40.44\n",
       "6  old    xfer plate  164.41\n",
       "7  new    blood disp   94.24\n",
       "8  new    buffer disp 255.93\n",
       "9  new    Ab disp      69.34\n",
       "10 new    serial dil  208.57\n",
       "11 new    xfer tubes  151.01\n",
       "12 new    xfer plate  280.21"
      ]
     },
     "metadata": {},
     "output_type": "display_data"
    }
   ],
   "source": [
    "df2"
   ]
  },
  {
   "cell_type": "code",
   "execution_count": 23,
   "id": "british-recognition",
   "metadata": {},
   "outputs": [
    {
     "data": {
      "image/png": "[encoded data removed]",
      "text/plain": [
       "plot without title"
      ]
     },
     "metadata": {
      "image/png": {
       "height": 420,
       "width": 420
      }
     },
     "output_type": "display_data"
    }
   ],
   "source": [
    "ggplot(data=df2, aes(x=action, y=time, fill=script)) +\n",
    "  geom_bar(stat=\"identity\", position=position_dodge())+\n",
    "  geom_text(aes(label=time), vjust=1.6, color=\"black\",\n",
    "            position = position_dodge(0.9), size=3.5)+\n",
    "  scale_fill_brewer(palette=\"Paired\")+\n",
    "  theme_minimal()"
   ]
  }
 ],
 "metadata": {
  "kernelspec": {
   "display_name": "R",
   "language": "R",
   "name": "ir"
  },
  "language_info": {
   "codemirror_mode": "r",
   "file_extension": ".r",
   "mimetype": "text/x-r-source",
   "name": "R",
   "pygments_lexer": "r",
   "version": "4.0.5"
  }
 },
 "nbformat": 4,
 "nbformat_minor": 5
}
